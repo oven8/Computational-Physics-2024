{
  "nbformat": 4,
  "nbformat_minor": 0,
  "metadata": {
    "colab": {
      "provenance": [],
      "authorship_tag": "ABX9TyPfZK4foCgomNO8+z1ORKJ1",
      "include_colab_link": true
    },
    "kernelspec": {
      "name": "python3",
      "display_name": "Python 3"
    },
    "language_info": {
      "name": "python"
    }
  },
  "cells": [
    {
      "cell_type": "markdown",
      "metadata": {
        "id": "view-in-github",
        "colab_type": "text"
      },
      "source": [
        "<a href=\"https://colab.research.google.com/github/oven8/Computational-Physics-2024/blob/main/Question_16_code.ipynb\" target=\"_parent\"><img src=\"https://colab.research.google.com/assets/colab-badge.svg\" alt=\"Open In Colab\"/></a>"
      ]
    },
    {
      "cell_type": "code",
      "source": [
        "import numpy as np\n",
        "\n",
        "def jacobi_method(A, b, x0, tol=0.01, max_iter=1000):\n",
        "    n = len(b)\n",
        "    x = x0.copy()\n",
        "    D = np.diag(np.diag(A))\n",
        "    L_U = A - D\n",
        "    iterations = 0\n",
        "\n",
        "    for _ in range(max_iter):\n",
        "        x_new = np.linalg.solve(D, b - np.dot(L_U, x))\n",
        "        if np.linalg.norm(x_new - x_true) < tol:\n",
        "            break\n",
        "        x = x_new\n",
        "        iterations += 1\n",
        "\n",
        "    return x, iterations\n",
        "A = np.array([\n",
        "    [0.2, 0.1, 1, 1, 0],\n",
        "    [0.1, 4, -1, 1, -1],\n",
        "    [1, -1, 60, 0, -2],\n",
        "    [1, 1, 0, 8, 4],\n",
        "    [0, -1, -2, 4, 700]\n",
        "])\n",
        "b = np.array([1, 2, 3, 4, 5])\n",
        "\n",
        "# True solution vector\n",
        "x_true = np.array([7.859713071, 0.422926408, -0.073592239, -0.540643016, 0.010626163])\n",
        "\n",
        "# Initial guess for the solution\n",
        "x0 = np.zeros_like(b)\n",
        "\n",
        "# Tolerance for convergence\n",
        "tolerance = 1e-3\n",
        "\n",
        "# Jacobi Method\n",
        "x_jacobi, iterations_jacobi = jacobi_method(A, b, x0, tol=tolerance)\n",
        "print(\"Jacobi Method:\")\n",
        "print(\"Solution:\", x_jacobi)\n",
        "print(\"Iterations:\", iterations_jacobi)\n"
      ],
      "metadata": {
        "colab": {
          "base_uri": "https://localhost:8080/"
        },
        "id": "hkYaTkkDB3lP",
        "outputId": "5ec93d86-81a0-4f6b-fa5e-e16ef78fb308"
      },
      "execution_count": null,
      "outputs": [
        {
          "output_type": "stream",
          "name": "stdout",
          "text": [
            "Jacobi Method:\n",
            "Solution: [ 7.85840263  0.42285174 -0.07360741 -0.54077744  0.01062506]\n",
            "Iterations: 60\n"
          ]
        }
      ]
    }
  ]
}