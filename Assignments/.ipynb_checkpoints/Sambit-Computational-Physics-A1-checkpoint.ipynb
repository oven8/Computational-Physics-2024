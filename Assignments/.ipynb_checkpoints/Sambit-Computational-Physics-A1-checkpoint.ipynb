{
 "cells": [
  {
   "cell_type": "markdown",
   "id": "3eb3e04b",
   "metadata": {},
   "source": [
    "# Packages and Functions"
   ]
  },
  {
   "cell_type": "code",
   "execution_count": 1,
   "id": "ec74f8b6",
   "metadata": {
    "scrolled": true
   },
   "outputs": [
    {
     "name": "stdout",
     "output_type": "stream",
     "text": [
      "Collecting array-to-latex\n",
      "  Downloading array_to_latex-0.91-py3-none-any.whl (6.0 kB)\n",
      "Collecting clipboard\n",
      "  Downloading clipboard-0.0.4.tar.gz (1.7 kB)\n",
      "Requirement already satisfied: pandas in c:\\users\\sambi\\anaconda3\\lib\\site-packages (from array-to-latex) (1.3.4)\n",
      "Requirement already satisfied: numpy in c:\\users\\sambi\\anaconda3\\lib\\site-packages (from array-to-latex) (1.26.2)\n",
      "Collecting pyperclip>=1.3\n",
      "  Downloading pyperclip-1.8.2.tar.gz (20 kB)\n",
      "Requirement already satisfied: python-dateutil>=2.7.3 in c:\\users\\sambi\\anaconda3\\lib\\site-packages (from pandas->array-to-latex) (2.8.2)\n",
      "Requirement already satisfied: pytz>=2017.3 in c:\\users\\sambi\\anaconda3\\lib\\site-packages (from pandas->array-to-latex) (2022.7)\n",
      "Requirement already satisfied: six>=1.5 in c:\\users\\sambi\\anaconda3\\lib\\site-packages (from python-dateutil>=2.7.3->pandas->array-to-latex) (1.16.0)\n",
      "Building wheels for collected packages: clipboard, pyperclip\n",
      "  Building wheel for clipboard (setup.py): started\n",
      "  Building wheel for clipboard (setup.py): finished with status 'done'\n",
      "  Created wheel for clipboard: filename=clipboard-0.0.4-py3-none-any.whl size=1850 sha256=05060c748807cb5b517b1eb2cf2a15296e255dd158adc5dc54d8782103701fca\n",
      "  Stored in directory: c:\\users\\sambi\\appdata\\local\\pip\\cache\\wheels\\58\\b3\\11\\d2a638f07f2b7f9210a1a1e8fd621005a836fa1dbf426a1553\n",
      "  Building wheel for pyperclip (setup.py): started\n",
      "  Building wheel for pyperclip (setup.py): finished with status 'done'\n",
      "  Created wheel for pyperclip: filename=pyperclip-1.8.2-py3-none-any.whl size=11136 sha256=4260d2bfaaa4fb9a3c564ab4341a56bb7b403ca22bac302e3333af03949adfc2\n",
      "  Stored in directory: c:\\users\\sambi\\appdata\\local\\pip\\cache\\wheels\\0c\\09\\9e\\49e21a6840ef7955b06d47394afef0058f0378c0914e48b8b8\n",
      "Successfully built clipboard pyperclip\n",
      "Installing collected packages: pyperclip, clipboard, array-to-latex\n",
      "Successfully installed array-to-latex-0.91 clipboard-0.0.4 pyperclip-1.8.2\n"
     ]
    }
   ],
   "source": [
    "#We will customize the _numpyarraytolatex function from the array-to-latex library.\n",
    "#Uncomment the below syntax to install array-to-latex if required.\n",
    "#!pip install array-to-latex"
   ]
  },
  {
   "cell_type": "code",
   "execution_count": 207,
   "id": "fae648e1",
   "metadata": {},
   "outputs": [
    {
     "data": {
      "text/plain": [
       "'0.11e+03'"
      ]
     },
     "execution_count": 207,
     "metadata": {},
     "output_type": "execute_result"
    }
   ],
   "source": [
    "def to_scientific_notation(number,digits=2):\n",
    "    fm1='{:.'+str(digits-1)+'e}'\n",
    "    fm2='{:.'+str(digits)+'f}e{:+0'+str(digits+1)+'d}'\n",
    "    a, b = fm1.format(number).split('e')\n",
    "    return fm2.format(float(a)/10, int(b)+1)\n",
    "\n",
    "to_scientific_notation(113.2,2)"
   ]
  },
  {
   "cell_type": "code",
   "execution_count": 208,
   "id": "b39744ab",
   "metadata": {},
   "outputs": [],
   "source": [
    "import numpy as _np\n",
    "import pandas as _pd\n",
    "\n",
    "def _numpyarraytolatex(a, frmt=to_scientific_notation, digits=2, arraytype='bmatrix', nargout=0,\n",
    "                       imstring='j', row=True, mathform=True):\n",
    "    r\"\"\"Return a LaTeX array given a numpy array.\n",
    "\n",
    "    Parameters\n",
    "    ----------\n",
    "    a         : float array\n",
    "    frmt      : function\n",
    "        python 3 formatter, optional-\n",
    "        https://mkaz.tech/python-string-format.html\n",
    "    digits    : integer\n",
    "    arraytype : string\n",
    "        latex array type- `bmatrix` default, optional\n",
    "    imstring : string (optional)\n",
    "        Character for square root of -1. Usually i or j\n",
    "    row      : Boolean\n",
    "        If the array is 1-D, should the output be\n",
    "            a row (True) or column (False)\n",
    "\n",
    "    Returns\n",
    "    -------\n",
    "    out: str\n",
    "        LaTeX array\n",
    "\n",
    "    See Also\n",
    "    --------\n",
    "    to_clp\n",
    "\n",
    "    Examples\n",
    "    --------\n",
    "    >>> import numpy as np\n",
    "    >>> import array_to_latex as a2l\n",
    "    >>> A = np.array([[1.23456, 23.45678],[456.23, 8.239521]])\n",
    "    >>> a2l.to_ltx(A, frmt = '{:6.2f}', arraytype = 'array')\n",
    "    \\begin{array}{c, c}\n",
    "        1.23 &   23.46\\\\\n",
    "      456.23 &    8.24\n",
    "    \\end{array}\n",
    "    None\n",
    "    >>> a2l.to_ltx(A, frmt = '{:6.2e}', arraytype = 'array')\n",
    "    \\begin{array}{c, c}\n",
    "      1.23e+00 &  2.35e+01\\\\\n",
    "      4.56e+02 &  8.24e+00\n",
    "    \\end{array}\n",
    "    None\n",
    "    >>> a2l.to_ltx(A, frmt = '{:.3g}', arraytype = 'array')\n",
    "    \\begin{array}{c, c}\n",
    "      1.23 &  23.5\\\\\n",
    "      456 &  8.24\n",
    "    \\end{array}\n",
    "    None\n",
    "    >>> a2l.to_ltx(A, frmt = '{:1.2f}', arraytype = 'coords')\n",
    "    {(1.23,23.46),(456.23,8.24)}\n",
    "    None\n",
    "\n",
    "    \"\"\"\n",
    "    if len(a.shape) > 2:\n",
    "        raise ValueError('bmatrix can at most display two dimensions')\n",
    "\n",
    "    if len(a.shape) == 1:\n",
    "        a = _np.array([a])\n",
    "        if row is False:\n",
    "            a = a.T\n",
    "\n",
    "    if arraytype == \"coords\":\n",
    "        coords = ['(' + ','.join([frmt(x,digits) for x in r]) + ')' for r in a]\n",
    "        return '{' + ','.join(coords) + '}'\n",
    "\n",
    "    arrayformat = ''\n",
    "\n",
    "    if arraytype == 'array':\n",
    "        arrayformat = '{'\n",
    "        for _ in _np.arange(a.shape[1]):\n",
    "            arrayformat = arrayformat + ' c,'\n",
    "        arrayformat = arrayformat[:-1] + '}'\n",
    "\n",
    "    out = r'\\begin{' + arraytype + '}' + arrayformat + '\\n'\n",
    "    for i in _np.arange(a.shape[0]):\n",
    "        out = out + ' '\n",
    "        for j in _np.arange(a.shape[1]):\n",
    "            leadstr = '' if _np.real(a[i, j]) < 0 else ' '\n",
    "            dot_space = ' ' if '.' not in frmt(a[i, j],digits) else ''\n",
    "            if _np.iscomplexobj(a[i, j]):\n",
    "                out = (out + leadstr\n",
    "                       + math_form(frmt(_np.real(a[i, j]),digits),\n",
    "                                   mathform=mathform)\n",
    "                       + ' + '\n",
    "                       + math_form(frmt(_np.imag(a[i, j]),digits),\n",
    "                                   is_imaginary=True,\n",
    "                                   mathform=mathform)\n",
    "                       + imstring\n",
    "                       + dot_space + ' & ')\n",
    "            else:\n",
    "                out = (out\n",
    "                       + leadstr\n",
    "                       + math_form(frmt(_np.real(a[i, j]),digits),\n",
    "                                   mathform=mathform)\n",
    "                       + dot_space\n",
    "                       + r' & ')\n",
    "\n",
    "        out = out[:-3]\n",
    "        out = out + '\\\\\\\\\\n'\n",
    "\n",
    "    out = out[:-3] + '\\n' + r'\\end{' + arraytype + '}'\n",
    "\n",
    "    return out\n",
    "\n",
    "def to_ltx(a, frmt=to_scientific_notation, digits=2, arraytype=None, nargout=0,\n",
    "           imstring='j', row=True, mathform=True, print_out=True):\n",
    "    r\"\"\"\n",
    "    Print or return a LaTeX array given a numpy array or Pandas dataframe.\n",
    "\n",
    "    Parameters\n",
    "    ----------\n",
    "    a         : float array\n",
    "    frmt      : string\n",
    "        python 3 formatter, optional-\n",
    "        https://mkaz.tech/python-string-format.html\n",
    "    digits    : integer\n",
    "    arraytype : string\n",
    "        latex array type- `bmatrix` default, optional\n",
    "    imstring : string (optional)\n",
    "        Character for square root of -1. Usually i or j\n",
    "    row        : Boolean (optional: default True)\n",
    "        If the array is 1-D, should the output be\n",
    "            a row (True) or column (False)\n",
    "    mathform  : Boolean (optional: default True)\n",
    "        Replace #E# with #\\times10^{#}\n",
    "\n",
    "\n",
    "    Returns\n",
    "    -------\n",
    "    out: str\n",
    "        LaTeX array\n",
    "\n",
    "    See Also\n",
    "    --------\n",
    "    to_clp\n",
    "\n",
    "    Examples\n",
    "    --------\n",
    "    >>> import numpy as np\n",
    "    >>> import array_to_latex as a2l\n",
    "    >>> A = np.array([[1.23456, 23.45678],[456.23, 8.239521]])\n",
    "    >>> a2l.to_ltx(A, frmt = '{:6.2f}', arraytype = 'array')\n",
    "    \\begin{array}\n",
    "        1.23 &   23.46\\\\\n",
    "      456.23 &    8.24\n",
    "    \\end{array}\n",
    "    None\n",
    "    >>> a2l.to_ltx(A, frmt = '{:6.2e}', arraytype = 'array')\n",
    "    \\begin{array}\n",
    "      1.23e+00 &  2.35e+01\\\\\n",
    "      4.56e+02 &  8.24e+00\n",
    "    \\end{array}\n",
    "    None\n",
    "    >>> a2l.to_ltx(A, frmt = '{:.3g}', arraytype = 'array')\n",
    "    \\begin{array}\n",
    "      1.23 &  23.5\\\\\n",
    "      456  &  8.24\n",
    "    \\end{array}\n",
    "    None\n",
    "    >>> a2l.to_ltx(A, frmt = '{:1.2f}', arraytype = 'coords')\n",
    "    {(1.23,23.46),(456.23,8.24)}\n",
    "    None\n",
    "\n",
    "    \"\"\"\n",
    "    if isinstance(a, _np.ndarray):\n",
    "\n",
    "        if arraytype is None:\n",
    "            arraytype = 'bmatrix'\n",
    "        latex = _numpyarraytolatex(a, frmt=frmt, digits=digits, arraytype=arraytype,\n",
    "                                   nargout=nargout, imstring=imstring,\n",
    "                                   row=row, mathform=mathform)\n",
    "    else:\n",
    "        raise TypeError(\"Argument should be a \"\n",
    "                        \"numpy array.\")\n",
    "    if print_out is True:\n",
    "        print(latex)\n",
    "        return\n",
    "\n",
    "    return latex\n",
    "\n",
    "def math_form(number, is_imaginary=False, mathform=True):\n",
    "    if 'e' in number:\n",
    "        if mathform:\n",
    "            number = number.replace('e', '\\\\times 10^{') + '}'\n",
    "        else:\n",
    "            number = number.replace('e', '\\\\mathrm{e}{') + '}'\n",
    "    return number"
   ]
  },
  {
   "cell_type": "markdown",
   "id": "791c2835",
   "metadata": {},
   "source": [
    "##### Relaxation Method"
   ]
  },
  {
   "cell_type": "code",
   "execution_count": 252,
   "id": "4a79fd28",
   "metadata": {},
   "outputs": [],
   "source": [
    "import numpy as np\n",
    "\n",
    "# Relaxation method\n",
    "def relaxation_method(A, b, x0, tolerance=0.001, max_iterations=1000, omega=1.25):\n",
    "    \"\"\"\n",
    "    Solve a system of linear equations using the Relaxation method.\n",
    "\n",
    "    Arguments:\n",
    "    A: 2D array representing the coefficients of the linear equations\n",
    "    b: 1D array representing the constants on the right-hand side of the equations\n",
    "    x0: 1D array representing the initial guess for the solution\n",
    "    tolerance: Desired tolerance for the solution\n",
    "    max_iterations: Maximum number of iterations allowed\n",
    "    omega: Relaxation parameter (typically between 1 and 2)\n",
    "\n",
    "    Returns:\n",
    "    solution: 1D array representing the solution to the system of linear equations\n",
    "    num_iterations: Number of iterations performed\n",
    "    \"\"\"\n",
    "    n = len(b)\n",
    "    solution = np.copy(x0)\n",
    "    for iteration in range(max_iterations):\n",
    "        old_solution = np.copy(solution)\n",
    "        for i in range(n):\n",
    "            summation = 0.0\n",
    "            for j in range(n):\n",
    "                if j != i:\n",
    "                    summation=summation+A[i][j] * solution[j]\n",
    "            solution[i] = (1 - omega) * old_solution[i] + (omega / A[i][i]) * (b[i] - summation)\n",
    "        if np.linalg.norm(solution - old_solution) < tolerance:\n",
    "            return solution, iteration + 1\n",
    "    print(\"Warning: Maximum number of iterations reached without convergence.\")\n",
    "    return solution, max_iterations"
   ]
  },
  {
   "cell_type": "code",
   "execution_count": null,
   "id": "411e79f8",
   "metadata": {},
   "outputs": [],
   "source": [
    "import numpy as np \n",
    "import array_to_latex as a2l \n",
    "\n",
    "def gauss_jacobi(A, b, x0, tol=0.01, max_iter=100):\n",
    "    n = len(A)\n",
    "    print(\"A=\")\n",
    "    a2l.to_ltx(A, frmt = '{:6.7f}', arraytype = 'bmatrix')\n",
    "    print(\"B=\")\n",
    "    a2l.to_ltx(b, frmt = '{:6.7f}', arraytype = 'bmatrix')\n",
    "    print(\"x0=\")\n",
    "    a2l.to_ltx(x0, frmt = '{:6.7f}', arraytype = 'bmatrix')\n",
    "    U = -np.triu(A,k=1)\n",
    "    L = -np.tril(A,k=-1)\n",
    "    D = A + U + L\n",
    "    T = np.matmul(np.linalg.inv(D),np.add(L,U))\n",
    "    C = np.matmul(np.linalg.inv(D),b)\n",
    "    print(\"D=\")\n",
    "    a2l.to_ltx(D, frmt = '{:6.7f}', arraytype = 'bmatrix')\n",
    "    print(\"L=\")\n",
    "    a2l.to_ltx(L, frmt = '{:6.7f}', arraytype = 'bmatrix')\n",
    "    print(\"U=\")\n",
    "    a2l.to_ltx(U, frmt = '{:6.7f}', arraytype = 'bmatrix')\n",
    "    print(\"T=\")\n",
    "    a2l.to_ltx(T, frmt = '{:6.7f}', arraytype = 'bmatrix')\n",
    "    print(\"C=\")\n",
    "    a2l.to_ltx(C, frmt = '{:6.7f}', arraytype = 'bmatrix')\n",
    "    x = x0[:]\n",
    "    for k in range(max_iter):\n",
    "        print(\"iteration=\",k)\n",
    "        x_old = x\n",
    "        x = np.add(np.matmul(T,x),C)\n",
    "        print(\"x=\")\n",
    "        a2l.to_ltx(x, frmt = '{:6.7f}', arraytype = 'bmatrix')\n",
    "        if abs(x - x_old).all() < tol:\n",
    "            return x\n",
    "    raise ValueError(\"Gauss-Seidel method did not converge\")\n",
    "    \n",
    "A = np.array([[4, -1, 0],\n",
    "     [-1, 4, -1],\n",
    "     [0, -1, 3]]).astype(float)\n",
    "b = np.array([5, -10, 15]).astype(float)\n",
    "x0 = np.array([0, 0, 0]).astype(float)\n",
    "solution = gauss_jacobi(A, b, x0)\n",
    "print(\"Solution:\", solution)"
   ]
  },
  {
   "cell_type": "code",
   "execution_count": 242,
   "id": "d2a49a0f",
   "metadata": {},
   "outputs": [],
   "source": [
    "import numpy as np\n",
    "# Conjugate Gradient method with latex output\n",
    "def conjugate_gradient_L(A, b, x0, digits=2, tol=0.001, max_iter=1000):\n",
    "    \"\"\"\n",
    "    Solve the linear system Ax = b using Conjugate Gradient method.\n",
    "\n",
    "    Parameters:\n",
    "        A (numpy.ndarray): Coefficient matrix.\n",
    "        b (numpy.ndarray): Right-hand side vector.\n",
    "        x0 (numpy.ndarray): Initial guess for the solution.\n",
    "        digits (int): Number of digits of decimal computer latex output.\n",
    "        tol (float): Tolerance for convergence.\n",
    "        max_iter (int): Maximum number of iterations.\n",
    "\n",
    "    Returns:\n",
    "        x (numpy.ndarray): Solution vector.\n",
    "        num_iter (int): Number of iterations performed.\n",
    "    \"\"\"\n",
    "    def floatformatter(num,digits=digits):\n",
    "        return to_scientific_notation(num,digits=digits)\n",
    "    np.set_printoptions(formatter={'float_kind':floatformatter})\n",
    "    r = b - np.dot(A, x0)\n",
    "    p = r\n",
    "    #print(\"p=\")\n",
    "    #a2l.to_ltx(p, frmt = fm, arraytype = 'bmatrix')\n",
    "    x = x0\n",
    "    rsold = np.dot(r, r)\n",
    "    #print(\"|r|^2=\",rsold)\n",
    "    for i in range(max_iter):\n",
    "        print(\"Iteration\",i,\":\")\n",
    "        print(\"r=\")\n",
    "        to_ltx(r, digits=digits, arraytype = 'bmatrix')\n",
    "        Ap = np.dot(A, p)\n",
    "        print(\"Ap=\")\n",
    "        to_ltx(Ap, digits=digits, arraytype = 'bmatrix')\n",
    "        alpha = rsold / np.dot(p, Ap)\n",
    "        print(\"alpha=\",to_scientific_notation(alpha,digits))\n",
    "        x = x + alpha * p\n",
    "        print(\"x\",i+1,\"=\")\n",
    "        to_ltx(x, digits=digits, arraytype = 'bmatrix')\n",
    "        r = r - alpha * Ap\n",
    "        print(\"r=\")\n",
    "        to_ltx(r, digits=digits, arraytype = 'bmatrix')\n",
    "        rsnew = np.dot(r, r)\n",
    "        print(\"|r|^2=\",to_scientific_notation(rsnew,digits))\n",
    "        beta = (rsnew / rsold)\n",
    "        print(\"beta\",to_scientific_notation(beta,digits))\n",
    "        if np.sqrt(rsnew) < tol:\n",
    "            break\n",
    "        p = r + beta * p\n",
    "        print(\"new p=\")\n",
    "        to_ltx(p, digits=digits, arraytype = 'bmatrix')\n",
    "        rsold = rsnew\n",
    "    return x, i+1"
   ]
  },
  {
   "cell_type": "code",
   "execution_count": 236,
   "id": "9a6862b5",
   "metadata": {},
   "outputs": [],
   "source": [
    "import numpy as np\n",
    "\n",
    "def gauss_elim(A, b, digits=2):\n",
    "    n = len(A)\n",
    "    \n",
    "    # Augmenting the matrix\n",
    "    AMN = np.hstack((A, b.reshape(-1, 1)))\n",
    "    \n",
    "    print(\"A=\")\n",
    "    to_ltx(AMN[0:,0:n], digits=digits, arraytype = 'bmatrix')\n",
    "    print(\"B=\")\n",
    "    to_ltx(AMN[0:,n], digits=digits, arraytype = 'bmatrix')\n",
    "    \n",
    "    for i in range(n):\n",
    "        # Partial pivoting\n",
    "        max_index = np.argmax(np.abs(AMN[i:, i])) + i\n",
    "        if max_index != i:\n",
    "            AMN[[i, max_index]] = AMN[[max_index, i]]\n",
    "            print(\"After partial pivoting:\")\n",
    "            print(\"R\",i+1,\"swap R\",max_index+1)\n",
    "            print(\"A=\")\n",
    "            to_ltx(AMN[0:,0:n], digits=digits, arraytype = 'bmatrix')\n",
    "            print(\"B=\")\n",
    "            to_ltx(AMN[0:,n], digits=digits, arraytype = 'bmatrix')\n",
    "            \n",
    "        #Normalization\n",
    "        print(\"R\",i+1,\"= R\",i+1,\"/\",AMN[i,i])\n",
    "        AMN[i] = AMN[i]/AMN[i,i]\n",
    "        print(\"A=\")\n",
    "        to_ltx(AMN[0:,0:n], digits=digits, arraytype = 'bmatrix')\n",
    "        print(\"B=\")\n",
    "        to_ltx(AMN[0:,n], digits=digits, arraytype = 'bmatrix')\n",
    "            \n",
    "        # Elimination\n",
    "        for j in range(i+1, n):\n",
    "            print(\"R\",j+1,\"= R\",j+1,\"-\",AMN[j,i],\"* R\",i+1)\n",
    "            AMN[j, i:] -= AMN[j, i] * AMN[i, i:]\n",
    "            print(\"A=\")\n",
    "            to_ltx(AMN[0:,0:n], digits=digits, arraytype = 'bmatrix')\n",
    "            print(\"B=\")\n",
    "            to_ltx(AMN[0:,n], digits=digits, arraytype = 'bmatrix')\n",
    "                \n",
    "        # Back substitution\n",
    "        x = np.zeros(n)\n",
    "        for i in range(n-1, -1, -1):\n",
    "            x[i] = (AMN[i, -1] - np.dot(AMN[i, i+1:n], x[i+1:]))\n",
    "            \n",
    "    return x"
   ]
  },
  {
   "cell_type": "code",
   "execution_count": 289,
   "id": "2bda8163",
   "metadata": {},
   "outputs": [
    {
     "ename": "NameError",
     "evalue": "name 'xt' is not defined",
     "output_type": "error",
     "traceback": [
      "\u001b[1;31m---------------------------------------------------------------------------\u001b[0m",
      "\u001b[1;31mNameError\u001b[0m                                 Traceback (most recent call last)",
      "\u001b[1;32m~\\AppData\\Local\\Temp/ipykernel_6112/2359711675.py\u001b[0m in \u001b[0;36m<module>\u001b[1;34m\u001b[0m\n\u001b[0;32m     15\u001b[0m     \u001b[1;32mraise\u001b[0m \u001b[0mValueError\u001b[0m\u001b[1;33m(\u001b[0m\u001b[1;34m\"Gauss-Jacobi method did not converge\"\u001b[0m\u001b[1;33m)\u001b[0m\u001b[1;33m\u001b[0m\u001b[1;33m\u001b[0m\u001b[0m\n\u001b[0;32m     16\u001b[0m \u001b[1;33m\u001b[0m\u001b[0m\n\u001b[1;32m---> 17\u001b[1;33m \u001b[0msolution\u001b[0m \u001b[1;33m=\u001b[0m \u001b[0mgauss_jacobi\u001b[0m\u001b[1;33m(\u001b[0m\u001b[0mA\u001b[0m\u001b[1;33m,\u001b[0m \u001b[0mb\u001b[0m\u001b[1;33m,\u001b[0m \u001b[0mx0\u001b[0m\u001b[1;33m)\u001b[0m\u001b[1;33m\u001b[0m\u001b[1;33m\u001b[0m\u001b[0m\n\u001b[0m\u001b[0;32m     18\u001b[0m \u001b[0mprint\u001b[0m\u001b[1;33m(\u001b[0m\u001b[1;34m\"Solution:\"\u001b[0m\u001b[1;33m,\u001b[0m \u001b[0msolution\u001b[0m\u001b[1;33m[\u001b[0m\u001b[1;36m0\u001b[0m\u001b[1;33m]\u001b[0m\u001b[1;33m)\u001b[0m\u001b[1;33m\u001b[0m\u001b[1;33m\u001b[0m\u001b[0m\n\u001b[0;32m     19\u001b[0m \u001b[0mprint\u001b[0m\u001b[1;33m(\u001b[0m\u001b[1;34m\"Number of iterations:\"\u001b[0m\u001b[1;33m,\u001b[0m \u001b[0msolution\u001b[0m\u001b[1;33m[\u001b[0m\u001b[1;36m1\u001b[0m\u001b[1;33m]\u001b[0m\u001b[1;33m)\u001b[0m\u001b[1;33m\u001b[0m\u001b[1;33m\u001b[0m\u001b[0m\n",
      "\u001b[1;32m~\\AppData\\Local\\Temp/ipykernel_6112/2359711675.py\u001b[0m in \u001b[0;36mgauss_jacobi\u001b[1;34m(A, b, x0, tol, max_iter)\u001b[0m\n\u001b[0;32m     11\u001b[0m         \u001b[0mx_old\u001b[0m \u001b[1;33m=\u001b[0m \u001b[0mnp\u001b[0m\u001b[1;33m.\u001b[0m\u001b[0mcopy\u001b[0m\u001b[1;33m(\u001b[0m\u001b[0mx\u001b[0m\u001b[1;33m)\u001b[0m\u001b[1;33m\u001b[0m\u001b[1;33m\u001b[0m\u001b[0m\n\u001b[0;32m     12\u001b[0m         \u001b[0mx\u001b[0m \u001b[1;33m=\u001b[0m \u001b[0mnp\u001b[0m\u001b[1;33m.\u001b[0m\u001b[0madd\u001b[0m\u001b[1;33m(\u001b[0m\u001b[0mnp\u001b[0m\u001b[1;33m.\u001b[0m\u001b[0mmatmul\u001b[0m\u001b[1;33m(\u001b[0m\u001b[0mT\u001b[0m\u001b[1;33m,\u001b[0m\u001b[0mx\u001b[0m\u001b[1;33m)\u001b[0m\u001b[1;33m,\u001b[0m\u001b[0mC\u001b[0m\u001b[1;33m)\u001b[0m\u001b[1;33m\u001b[0m\u001b[1;33m\u001b[0m\u001b[0m\n\u001b[1;32m---> 13\u001b[1;33m         \u001b[1;32mif\u001b[0m \u001b[0mnp\u001b[0m\u001b[1;33m.\u001b[0m\u001b[0mlinalg\u001b[0m\u001b[1;33m.\u001b[0m\u001b[0mnorm\u001b[0m\u001b[1;33m(\u001b[0m\u001b[0mx\u001b[0m \u001b[1;33m-\u001b[0m \u001b[0mxt\u001b[0m\u001b[1;33m)\u001b[0m \u001b[1;33m<\u001b[0m \u001b[0mtol\u001b[0m\u001b[1;33m:\u001b[0m\u001b[1;33m\u001b[0m\u001b[1;33m\u001b[0m\u001b[0m\n\u001b[0m\u001b[0;32m     14\u001b[0m             \u001b[1;32mreturn\u001b[0m \u001b[0mx\u001b[0m\u001b[1;33m,\u001b[0m\u001b[0mk\u001b[0m\u001b[1;33m+\u001b[0m\u001b[1;36m1\u001b[0m\u001b[1;33m\u001b[0m\u001b[1;33m\u001b[0m\u001b[0m\n\u001b[0;32m     15\u001b[0m     \u001b[1;32mraise\u001b[0m \u001b[0mValueError\u001b[0m\u001b[1;33m(\u001b[0m\u001b[1;34m\"Gauss-Jacobi method did not converge\"\u001b[0m\u001b[1;33m)\u001b[0m\u001b[1;33m\u001b[0m\u001b[1;33m\u001b[0m\u001b[0m\n",
      "\u001b[1;31mNameError\u001b[0m: name 'xt' is not defined"
     ]
    }
   ],
   "source": []
  },
  {
   "cell_type": "markdown",
   "id": "f713d162",
   "metadata": {},
   "source": [
    "### Question 1"
   ]
  },
  {
   "cell_type": "code",
   "execution_count": 247,
   "id": "c59c4872",
   "metadata": {},
   "outputs": [
    {
     "name": "stdout",
     "output_type": "stream",
     "text": [
      "A=\n",
      "\\begin{bmatrix}\n",
      "  0.10\\times 10^{+01} &  0.50\\times 10^{+00}\\\\\n",
      "  0.50\\times 10^{+00} &  0.33\\times 10^{+00}\n",
      "\\end{bmatrix}\n",
      "B=\n",
      "\\begin{bmatrix}\n",
      "  0.24\\times 10^{+00} &  0.13\\times 10^{+00}\n",
      "\\end{bmatrix}\n",
      "R 1 = R 1 / 1.0\n",
      "A=\n",
      "\\begin{bmatrix}\n",
      "  0.10\\times 10^{+01} &  0.50\\times 10^{+00}\\\\\n",
      "  0.50\\times 10^{+00} &  0.33\\times 10^{+00}\n",
      "\\end{bmatrix}\n",
      "B=\n",
      "\\begin{bmatrix}\n",
      "  0.24\\times 10^{+00} &  0.13\\times 10^{+00}\n",
      "\\end{bmatrix}\n",
      "R 2 = R 2 - 0.5 * R 1\n",
      "A=\n",
      "\\begin{bmatrix}\n",
      "  0.10\\times 10^{+01} &  0.50\\times 10^{+00}\\\\\n",
      "  0.00\\times 10^{+01} &  0.80\\times 10^{-01}\n",
      "\\end{bmatrix}\n",
      "B=\n",
      "\\begin{bmatrix}\n",
      "  0.24\\times 10^{+00} &  0.10\\times 10^{-01}\n",
      "\\end{bmatrix}\n",
      "R 2 = R 2 / 0.08000000000000002\n",
      "A=\n",
      "\\begin{bmatrix}\n",
      "  0.10\\times 10^{+01} &  0.50\\times 10^{+00}\\\\\n",
      "  0.00\\times 10^{+01} &  0.10\\times 10^{+01}\n",
      "\\end{bmatrix}\n",
      "B=\n",
      "\\begin{bmatrix}\n",
      "  0.24\\times 10^{+00} &  0.13\\times 10^{+00}\n",
      "\\end{bmatrix}\n",
      "Solution: [0.18e+00 0.13e+00]\n"
     ]
    }
   ],
   "source": [
    "import numpy as np\n",
    "# Solving Q1 using Gaussian elimination with partial pivoting\n",
    "A = np.array([[1.00,0.50],[0.50,0.33]])\n",
    "b = np.array([0.24,0.13])\n",
    "\n",
    "solution = gauss_elim(A, b,digits=2)\n",
    "print(\"Solution:\", solution)"
   ]
  },
  {
   "cell_type": "code",
   "execution_count": 243,
   "id": "8d8f4856",
   "metadata": {
    "scrolled": false
   },
   "outputs": [
    {
     "name": "stdout",
     "output_type": "stream",
     "text": [
      "Iteration 0 :\n",
      "r=\n",
      "\\begin{bmatrix}\n",
      "  0.24\\times 10^{+00} &  0.13\\times 10^{+00}\n",
      "\\end{bmatrix}\n",
      "Ap=\n",
      "\\begin{bmatrix}\n",
      "  0.30\\times 10^{+00} &  0.16\\times 10^{+00}\n",
      "\\end{bmatrix}\n",
      "alpha= 0.79e+00\n",
      "x 1 =\n",
      "\\begin{bmatrix}\n",
      "  0.19\\times 10^{+00} &  0.10\\times 10^{+00}\n",
      "\\end{bmatrix}\n",
      "r=\n",
      "\\begin{bmatrix}\n",
      " -0.76\\times 10^{-03} &  0.14\\times 10^{-02}\n",
      "\\end{bmatrix}\n",
      "|r|^2= 0.26e-05\n",
      "beta 0.34e-04\n",
      "new p=\n",
      "\\begin{bmatrix}\n",
      " -0.75\\times 10^{-03} &  0.14\\times 10^{-02}\n",
      "\\end{bmatrix}\n",
      "Iteration 1 :\n",
      "r=\n",
      "\\begin{bmatrix}\n",
      " -0.76\\times 10^{-03} &  0.14\\times 10^{-02}\n",
      "\\end{bmatrix}\n",
      "Ap=\n",
      "\\begin{bmatrix}\n",
      " -0.48\\times 10^{-04} &  0.89\\times 10^{-04}\n",
      "\\end{bmatrix}\n",
      "alpha= 0.16e+02\n",
      "x 2 =\n",
      "\\begin{bmatrix}\n",
      "  0.18\\times 10^{+00} &  0.13\\times 10^{+00}\n",
      "\\end{bmatrix}\n",
      "r=\n",
      "\\begin{bmatrix}\n",
      " -0.17\\times 10^{-15} & -0.91\\times 10^{-16}\n",
      "\\end{bmatrix}\n",
      "|r|^2= 0.37e-31\n",
      "beta 0.15e-25\n",
      "Solution: [0.18e+00 0.13e+00]\n",
      "Number of iterations: 2\n"
     ]
    }
   ],
   "source": [
    "import numpy as np\n",
    "# Solving Q1 by Conjugate Gradient method\n",
    "A = np.array([[1.00,0.50],[0.50,0.33]])\n",
    "b = np.array([0.24,0.13])\n",
    "x0 = np.array([0,0])\n",
    "solution, iterations = conjugate_gradient_L(A, b, x0)\n",
    "print(\"Solution:\", solution)\n",
    "print(\"Number of iterations:\", iterations)"
   ]
  },
  {
   "cell_type": "markdown",
   "id": "0231c818",
   "metadata": {},
   "source": [
    "### Question 2"
   ]
  },
  {
   "cell_type": "code",
   "execution_count": 246,
   "id": "4f1103ed",
   "metadata": {},
   "outputs": [
    {
     "name": "stdout",
     "output_type": "stream",
     "text": [
      "A=\n",
      "\\begin{bmatrix}\n",
      "  0.10\\times 10^{+00} &  0.20\\times 10^{+00}\\\\\n",
      "  0.20\\times 10^{+00} &  0.11\\times 10^{+03}\n",
      "\\end{bmatrix}\n",
      "B=\n",
      "\\begin{bmatrix}\n",
      "  0.30\\times 10^{+00} &  0.11\\times 10^{+03}\n",
      "\\end{bmatrix}\n",
      "After partial pivoting:\n",
      "R 1 swap R 2\n",
      "A=\n",
      "\\begin{bmatrix}\n",
      "  0.20\\times 10^{+00} &  0.11\\times 10^{+03}\\\\\n",
      "  0.10\\times 10^{+00} &  0.20\\times 10^{+00}\n",
      "\\end{bmatrix}\n",
      "B=\n",
      "\\begin{bmatrix}\n",
      "  0.11\\times 10^{+03} &  0.30\\times 10^{+00}\n",
      "\\end{bmatrix}\n",
      "R 1 = R 1 / 0.2\n",
      "A=\n",
      "\\begin{bmatrix}\n",
      "  0.10\\times 10^{+01} &  0.55\\times 10^{+03}\\\\\n",
      "  0.10\\times 10^{+00} &  0.20\\times 10^{+00}\n",
      "\\end{bmatrix}\n",
      "B=\n",
      "\\begin{bmatrix}\n",
      "  0.55\\times 10^{+03} &  0.30\\times 10^{+00}\n",
      "\\end{bmatrix}\n",
      "R 2 = R 2 - 0.1 * R 1\n",
      "A=\n",
      "\\begin{bmatrix}\n",
      "  0.10\\times 10^{+01} &  0.55\\times 10^{+03}\\\\\n",
      "  0.00\\times 10^{+01} & -0.55\\times 10^{+02}\n",
      "\\end{bmatrix}\n",
      "B=\n",
      "\\begin{bmatrix}\n",
      "  0.55\\times 10^{+03} & -0.55\\times 10^{+02}\n",
      "\\end{bmatrix}\n",
      "R 2 = R 2 / -54.8\n",
      "A=\n",
      "\\begin{bmatrix}\n",
      "  0.10\\times 10^{+01} &  0.55\\times 10^{+03}\\\\\n",
      "  -0.00\\times 10^{+01} &  0.10\\times 10^{+01}\n",
      "\\end{bmatrix}\n",
      "B=\n",
      "\\begin{bmatrix}\n",
      "  0.55\\times 10^{+03} &  0.10\\times 10^{+01}\n",
      "\\end{bmatrix}\n",
      "Solution: [0.10e+01 0.10e+01]\n"
     ]
    }
   ],
   "source": [
    "# Solving Q2 using Gaussian elimination with partial pivoting\n",
    "A = np.array([[0.1,0.2],[0.2,11e1]])\n",
    "b = np.array([0.3,11e1])\n",
    "\n",
    "solution = gauss_elim(A, b,digits=2)\n",
    "print(\"Solution:\", solution)"
   ]
  },
  {
   "cell_type": "code",
   "execution_count": 245,
   "id": "8e4c4042",
   "metadata": {
    "scrolled": true
   },
   "outputs": [
    {
     "name": "stdout",
     "output_type": "stream",
     "text": [
      "Iteration 0 :\n",
      "r=\n",
      "\\begin{bmatrix}\n",
      "  0.30\\times 10^{+00} &  0.11\\times 10^{+03}\n",
      "\\end{bmatrix}\n",
      "Ap=\n",
      "\\begin{bmatrix}\n",
      "  0.22\\times 10^{+02} &  0.12\\times 10^{+05}\n",
      "\\end{bmatrix}\n",
      "alpha= 0.91e-02\n",
      "x 1 =\n",
      "\\begin{bmatrix}\n",
      "  0.27\\times 10^{-02} &  0.10\\times 10^{+01}\n",
      "\\end{bmatrix}\n",
      "r=\n",
      "\\begin{bmatrix}\n",
      "  0.10\\times 10^{+00} & -0.27\\times 10^{-03}\n",
      "\\end{bmatrix}\n",
      "|r|^2= 0.99e-02\n",
      "beta 0.82e-06\n",
      "new p=\n",
      "\\begin{bmatrix}\n",
      "  0.10\\times 10^{+00} & -0.18\\times 10^{-03}\n",
      "\\end{bmatrix}\n",
      "Iteration 1 :\n",
      "r=\n",
      "\\begin{bmatrix}\n",
      "  0.10\\times 10^{+00} & -0.27\\times 10^{-03}\n",
      "\\end{bmatrix}\n",
      "Ap=\n",
      "\\begin{bmatrix}\n",
      "  0.99\\times 10^{-02} & -0.27\\times 10^{-04}\n",
      "\\end{bmatrix}\n",
      "alpha= 0.10e+02\n",
      "x 2 =\n",
      "\\begin{bmatrix}\n",
      "  0.10\\times 10^{+01} &  0.10\\times 10^{+01}\n",
      "\\end{bmatrix}\n",
      "r=\n",
      "\\begin{bmatrix}\n",
      "  0.39\\times 10^{-13} &  0.21\\times 10^{-10}\n",
      "\\end{bmatrix}\n",
      "|r|^2= 0.45e-21\n",
      "beta 0.46e-19\n",
      "Solution: [0.10e+01 0.10e+01]\n",
      "Number of iterations: 2\n"
     ]
    }
   ],
   "source": [
    "# Solving Q2 by Conjugate Gradient method\n",
    "A = np.array([[0.1,0.2],[0.2,11e1]])\n",
    "b = np.array([0.3,11e1])\n",
    "x0 = np.array([0,0])\n",
    "solution, iterations = conjugate_gradient_L(A, b, x0)\n",
    "print(\"Solution:\", solution)\n",
    "print(\"Number of iterations:\", iterations)"
   ]
  },
  {
   "cell_type": "markdown",
   "id": "423ab8c3",
   "metadata": {},
   "source": [
    "### Question 4"
   ]
  },
  {
   "cell_type": "code",
   "execution_count": 262,
   "id": "227dfe6e",
   "metadata": {},
   "outputs": [
    {
     "name": "stdout",
     "output_type": "stream",
     "text": [
      "Warning: Maximum number of iterations reached without convergence.\n",
      "Solution: [ 0.05410079 -0.21154353  0.64771586]\n",
      "Number of iterations: 2\n"
     ]
    }
   ],
   "source": [
    "# To check solution of question 4\n",
    "np.set_printoptions()\n",
    "A = np.array([[3,-1,1],[3,6,2],[3,3,7]]).astype(float)\n",
    "b = np.array([1,0,4]).astype(float)\n",
    "x0 = np.array([0,0,0]).astype(float)\n",
    "solution, iterations = relaxation_method(A, b, x0, max_iterations=2, omega=1.1)\n",
    "print(\"Solution:\", solution)\n",
    "print(\"Number of iterations:\", iterations)"
   ]
  },
  {
   "cell_type": "code",
   "execution_count": 280,
   "id": "7a2cab48",
   "metadata": {},
   "outputs": [
    {
     "name": "stdout",
     "output_type": "stream",
     "text": [
      "Warning: Maximum number of iterations reached without convergence.\n",
      "Solution: [0.987679   0.97849345 0.78993276]\n",
      "Number of iterations: 2\n"
     ]
    }
   ],
   "source": [
    "A = np.array([[10,-1,0],[-1,10,-2],[0,-2,10]]).astype(float)\n",
    "b = np.array([9,7,6]).astype(float)\n",
    "x0 = np.array([0,0,0]).astype(float)\n",
    "solution, iterations = relaxation_method(A, b, x0, max_iterations=2, omega=1.1)\n",
    "print(\"Solution:\", solution)\n",
    "print(\"Number of iterations:\", iterations)"
   ]
  },
  {
   "cell_type": "code",
   "execution_count": 281,
   "id": "7e030c66",
   "metadata": {},
   "outputs": [
    {
     "name": "stdout",
     "output_type": "stream",
     "text": [
      "Warning: Maximum number of iterations reached without convergence.\n",
      "Solution: [-0.71885     2.8188215  -0.38076847 -3.02016286]\n",
      "Number of iterations: 2\n"
     ]
    }
   ],
   "source": [
    "A = np.array([[10,5,0,0],[5,10,-4,0],[0,-4,8,-1],[0,0,-3,4]]).astype(float)\n",
    "b = np.array([6,25,-11,-11]).astype(float)\n",
    "x0 = np.array([0,0,0,0]).astype(float)\n",
    "solution, iterations = relaxation_method(A, b, x0, max_iterations=2, omega=1.1)\n",
    "print(\"Solution:\", solution)\n",
    "print(\"Number of iterations:\", iterations)"
   ]
  },
  {
   "cell_type": "code",
   "execution_count": 283,
   "id": "57ac08e7",
   "metadata": {
    "scrolled": true
   },
   "outputs": [
    {
     "name": "stdout",
     "output_type": "stream",
     "text": [
      "Warning: Maximum number of iterations reached without convergence.\n",
      "Solution: [ 1.07967477 -1.260654    2.04248922  1.9953725   2.0495358 ]\n",
      "Number of iterations: 2\n"
     ]
    }
   ],
   "source": [
    "A = np.array([[4,1,1,0,1],[-1,-3,1,1,0],[2,1,5,-1,-1],[-1,-1,-1,4,0],[0,2,-1,1,4]]).astype(float)\n",
    "b = np.array([6,6,6,6,6]).astype(float)\n",
    "x0 = np.array([0,0,0,0,0]).astype(float)\n",
    "solution, iterations = relaxation_method(A, b, x0, max_iterations=2, omega=1.1)\n",
    "print(\"Solution:\", solution)\n",
    "print(\"Number of iterations:\", iterations)"
   ]
  },
  {
   "cell_type": "markdown",
   "id": "b682d372",
   "metadata": {},
   "source": [
    "### Question 5"
   ]
  },
  {
   "cell_type": "code",
   "execution_count": 284,
   "id": "fd9fb817",
   "metadata": {},
   "outputs": [
    {
     "name": "stdout",
     "output_type": "stream",
     "text": [
      "Warning: Maximum number of iterations reached without convergence.\n",
      "Solution: [-0.10401032 -0.13318139  0.67749966]\n",
      "Number of iterations: 2\n"
     ]
    }
   ],
   "source": [
    "A = np.array([[3,-1,1],[3,6,2],[3,3,7]]).astype(float)\n",
    "b = np.array([1,0,4]).astype(float)\n",
    "x0 = np.array([0,0,0]).astype(float)\n",
    "solution, iterations = relaxation_method(A, b, x0, max_iterations=2, omega=1.3)\n",
    "print(\"Solution:\", solution)\n",
    "print(\"Number of iterations:\", iterations)"
   ]
  },
  {
   "cell_type": "code",
   "execution_count": 285,
   "id": "adaa116c",
   "metadata": {},
   "outputs": [
    {
     "name": "stdout",
     "output_type": "stream",
     "text": [
      "Warning: Maximum number of iterations reached without convergence.\n",
      "Solution: [0.957073   0.99038745 0.72065694]\n",
      "Number of iterations: 2\n"
     ]
    }
   ],
   "source": [
    "A = np.array([[10,-1,0],[-1,10,-2],[0,-2,10]]).astype(float)\n",
    "b = np.array([9,7,6]).astype(float)\n",
    "x0 = np.array([0,0,0]).astype(float)\n",
    "solution, iterations = relaxation_method(A, b, x0, max_iterations=2, omega=1.3)\n",
    "print(\"Solution:\", solution)\n",
    "print(\"Number of iterations:\", iterations)"
   ]
  },
  {
   "cell_type": "code",
   "execution_count": 287,
   "id": "8b5971cc",
   "metadata": {},
   "outputs": [
    {
     "name": "stdout",
     "output_type": "stream",
     "text": [
      "Warning: Maximum number of iterations reached without convergence.\n",
      "Solution: [-1.23695     3.2287515  -0.26910492 -2.76354642]\n",
      "Number of iterations: 2\n"
     ]
    }
   ],
   "source": [
    "A = np.array([[10,5,0,0],[5,10,-4,0],[0,-4,8,-1],[0,0,-3,4]]).astype(float)\n",
    "b = np.array([6,25,-11,-11]).astype(float)\n",
    "x0 = np.array([0,0,0,0]).astype(float)\n",
    "solution, iterations = relaxation_method(A, b, x0, max_iterations=2, omega=1.3)\n",
    "print(\"Solution:\", solution)\n",
    "print(\"Number of iterations:\", iterations)"
   ]
  },
  {
   "cell_type": "code",
   "execution_count": 288,
   "id": "a379edaa",
   "metadata": {
    "scrolled": true
   },
   "outputs": [
    {
     "name": "stdout",
     "output_type": "stream",
     "text": [
      "Warning: Maximum number of iterations reached without convergence.\n",
      "Solution: [ 0.70642575 -0.41038757  2.41706293  2.25195461  1.06150743]\n",
      "Number of iterations: 2\n"
     ]
    }
   ],
   "source": [
    "A = np.array([[4,1,1,0,1],[-1,-3,1,1,0],[2,1,5,-1,-1],[-1,-1,-1,4,0],[0,2,-1,1,4]]).astype(float)\n",
    "b = np.array([6,6,6,6,6]).astype(float)\n",
    "x0 = np.array([0,0,0,0,0]).astype(float)\n",
    "solution, iterations = relaxation_method(A, b, x0, max_iterations=2, omega=1.3)\n",
    "print(\"Solution:\", solution)\n",
    "print(\"Number of iterations:\", iterations)"
   ]
  },
  {
   "cell_type": "markdown",
   "id": "427ab118",
   "metadata": {},
   "source": [
    "### Question 13"
   ]
  },
  {
   "cell_type": "code",
   "execution_count": 276,
   "id": "22d252be",
   "metadata": {
    "scrolled": true
   },
   "outputs": [
    {
     "name": "stdout",
     "output_type": "stream",
     "text": [
      "\\begin{bmatrix}\n",
      "  3.000000 & -1.000000 &  1.000000\\\\\n",
      "  3.000000 &  6.000000 &  2.000000\\\\\n",
      "  3.000000 &  2.997000 &  6.999000\n",
      "\\end{bmatrix}\n",
      "None\n"
     ]
    }
   ],
   "source": [
    "# Verification for LU decomposition\n",
    "import array_to_latex as a2l\n",
    "L1 = np.array([[1,0,0],[1,1,0],[1,0.571,1]])\n",
    "U1 = np.array([[3 ,-1, 1],[0 ,7, 1],[0,0,5.428]])\n",
    "A1 = L1@U1\n",
    "print(a2l.to_ltx(A1, frmt = '{:f}', arraytype = 'bmatrix'))"
   ]
  },
  {
   "cell_type": "code",
   "execution_count": 277,
   "id": "f9206088",
   "metadata": {},
   "outputs": [
    {
     "name": "stdout",
     "output_type": "stream",
     "text": [
      "\\begin{bmatrix}\n",
      "  10.000000 & -1.000000 &  0.000000\\\\\n",
      " -1.000000 &  10.000000 & -2.000000\\\\\n",
      "  0.000000 & -1.999800 &  10.000000\n",
      "\\end{bmatrix}\n",
      "None\n"
     ]
    }
   ],
   "source": [
    "# Verification for LU decomposition\n",
    "L1 = np.array([[1,0,0],[-0.1,1,0],[0,-0.202,1]])\n",
    "U1 = np.array([[10 ,-1, 0],[0 ,9.9, -2],[0,0,9.596]])\n",
    "A1 = L1@U1\n",
    "print(a2l.to_ltx(A1, frmt = '{:f}', arraytype = 'bmatrix'))"
   ]
  },
  {
   "cell_type": "code",
   "execution_count": 279,
   "id": "2aa502d5",
   "metadata": {
    "scrolled": false
   },
   "outputs": [
    {
     "name": "stdout",
     "output_type": "stream",
     "text": [
      "\\begin{bmatrix}\n",
      "  10.000000 &  5.000000 &  0.000000 &  0.000000\\\\\n",
      "  5.000000 &  10.000000 & -4.000000 &  0.000000\\\\\n",
      "  0.000000 & -3.997500 &  7.999000 & -1.000000\\\\\n",
      "  0.000000 &  0.000000 & -0.997390 &  5.000000\n",
      "\\end{bmatrix}\n",
      "None\n"
     ]
    }
   ],
   "source": [
    "L1 = np.array([[1,0,0,0],[0.5,1,0,0],[0,-0.533,1,0],[0, 0, -0.170, 1]])\n",
    "U1 = np.array([[10 ,5, 0,0],[0 ,7.5, -4,0],[0,0,5.867,-1],[0, 0, 0, 4.83]])\n",
    "A1 = L1@U1\n",
    "print(a2l.to_ltx(A1, frmt = '{:f}', arraytype = 'bmatrix'))"
   ]
  },
  {
   "cell_type": "markdown",
   "id": "1f8fbbe6",
   "metadata": {},
   "source": [
    "### Question 16"
   ]
  },
  {
   "cell_type": "code",
   "execution_count": 290,
   "id": "49068fcf",
   "metadata": {},
   "outputs": [],
   "source": [
    "A=np.array([[0.2,0.1,1,1,0],[0.1,4,-1,1,-1],[1,-1,60,0,-2],[1,1,0,8,4],[0,-1,-2,4,700]]).astype(float)\n",
    "b=np.array([1,2,3,4,5]).astype(float)\n",
    "x0=np.array([0,0,0,0,0]).astype(float)\n",
    "xt = np.array([7.859713071, 0.422926408, -0.073592239, -0.540643016, 0.010626163])"
   ]
  },
  {
   "cell_type": "code",
   "execution_count": 291,
   "id": "3b65f846",
   "metadata": {},
   "outputs": [
    {
     "name": "stdout",
     "output_type": "stream",
     "text": [
      "Solution: [ 7.86798447  0.4239069  -0.0731638  -0.5370925   0.01063184]\n",
      "Number of iterations: 39\n"
     ]
    }
   ],
   "source": [
    "# Jacobi method\n",
    "def gauss_jacobi(A, b, x0, tol=0.01, max_iter=100):\n",
    "    n = len(A)\n",
    "    U = -np.triu(A,k=1)\n",
    "    L = -np.tril(A,k=-1)\n",
    "    D = A + U + L\n",
    "    T = np.matmul(np.linalg.inv(D),np.add(L,U))\n",
    "    C = np.matmul(np.linalg.inv(D),b)\n",
    "    x = np.copy(x0)\n",
    "    for k in range(max_iter):\n",
    "        x_old = np.copy(x)\n",
    "        x = np.add(np.matmul(T,x),C)\n",
    "        if np.linalg.norm(x - xt) < tol:\n",
    "            return x,k+1\n",
    "    raise ValueError(\"Gauss-Jacobi method did not converge\")\n",
    "\n",
    "solution = gauss_jacobi(A, b, x0)\n",
    "print(\"Solution:\", solution[0])\n",
    "print(\"Number of iterations:\", solution[1])"
   ]
  },
  {
   "cell_type": "code",
   "execution_count": 292,
   "id": "ff652dde",
   "metadata": {},
   "outputs": [
    {
     "name": "stdout",
     "output_type": "stream",
     "text": [
      "Solution: [ 7.85091478  0.42280131 -0.07344797 -0.53952326  0.01062   ]\n",
      "Number of iterations: 18\n"
     ]
    }
   ],
   "source": [
    "# Gauss-Seidel method\n",
    "def gauss_siedel(A, b, x0, tol=0.01, max_iter=1000):\n",
    "    n = len(A)\n",
    "    U = -np.triu(A,k=1)\n",
    "    L = -np.tril(A,k=-1)\n",
    "    D = A + U + L\n",
    "    T = np.matmul(np.linalg.inv(np.add(D,-L)),U)\n",
    "    C = np.matmul(np.linalg.inv(np.add(D,-L)),b)\n",
    "    x = np.copy(x0)\n",
    "    for k in range(max_iter):\n",
    "        x_old = np.copy(x)\n",
    "        x = np.add(np.matmul(T,x),C)\n",
    "        if np.linalg.norm(x - xt) < tol:\n",
    "            return x,k+1\n",
    "    raise ValueError(\"Gauss-Seidel method did not converge\")\n",
    "\n",
    "solution = gauss_siedel(A, b, x0)\n",
    "print(\"Solution:\", solution[0])\n",
    "print(\"Number of iterations:\", solution[1])"
   ]
  },
  {
   "cell_type": "code",
   "execution_count": 293,
   "id": "6192c6c9",
   "metadata": {},
   "outputs": [
    {
     "name": "stdout",
     "output_type": "stream",
     "text": [
      "Solution: [ 7.85152701  0.42277371 -0.07348303 -0.53978369  0.01062286]\n",
      "Number of iterations: 7\n"
     ]
    }
   ],
   "source": [
    "# Relaxation method\n",
    "def relaxation_method(A, b, x0, tol=0.01, max_iter=1000, omega=1.25):\n",
    "    n = len(b)\n",
    "    x = np.copy(x0)\n",
    "    for k in range(max_iter):\n",
    "        x_old = np.copy(x)\n",
    "        for i in range(n):\n",
    "            sum = 0\n",
    "            for j in range(n):\n",
    "                if j != i:\n",
    "                    sum += A[i][j] * x[j]\n",
    "            x[i] = (1 - omega) * x_old[i] + (omega / A[i][i]) * (b[i] - sum)\n",
    "        r = np.multiply(np.diag(A),np.add(x,-x_old))\n",
    "        if np.linalg.norm(x - xt) < tol:\n",
    "            return x,k+1\n",
    "    raise ValueError(\"Relaxation method did not converge\")\n",
    "\n",
    "solution = relaxation_method(A, b, x0)\n",
    "print(\"Solution:\", solution[0])\n",
    "print(\"Number of iterations:\", solution[1])"
   ]
  },
  {
   "cell_type": "code",
   "execution_count": 294,
   "id": "0339222d",
   "metadata": {
    "scrolled": true
   },
   "outputs": [
    {
     "name": "stdout",
     "output_type": "stream",
     "text": [
      "Solution: [ 7.85971308  0.42292641 -0.07359224 -0.54064302  0.01062616]\n",
      "Number of iterations: 5\n"
     ]
    }
   ],
   "source": [
    "# Conjugate Gradient method\n",
    "def conjugate_gradient(A, b, x0, tol=0.01, max_iter=1000):\n",
    "    r = b - np.dot(A, x0)\n",
    "    p = np.copy(r)\n",
    "    x = np.copy(x0)\n",
    "    rsold = np.dot(r, r)\n",
    "    for k in range(max_iter):\n",
    "        Ap = np.dot(A, p)\n",
    "        alpha = rsold / np.dot(p, Ap)\n",
    "        x = x + alpha * p\n",
    "        if np.linalg.norm(x - xt) < tol:\n",
    "            return x,k+1\n",
    "        r = r - alpha * Ap\n",
    "        rsnew = np.dot(r, r)\n",
    "        beta = (rsnew / rsold)\n",
    "        p = r + beta * p\n",
    "        rsold = np.copy(rsnew)\n",
    "    raise ValueError(\"Relaxation method did not converge\")\n",
    "\n",
    "solution = conjugate_gradient(A, b, x0)\n",
    "print(\"Solution:\", solution[0])\n",
    "print(\"Number of iterations:\", solution[1])"
   ]
  },
  {
   "cell_type": "markdown",
   "id": "b6ff3c9a",
   "metadata": {},
   "source": [
    "### Question 17"
   ]
  },
  {
   "cell_type": "code",
   "execution_count": 296,
   "id": "cd4ebfb4",
   "metadata": {},
   "outputs": [
    {
     "name": "stdout",
     "output_type": "stream",
     "text": [
      "Eigenvalues using QR decomposition: [9. 4.]\n",
      "Eigenvalues using numpy.linalg.eigh: [4. 9.]\n"
     ]
    }
   ],
   "source": [
    "def qr_eigenvalues(A, max_iter=100, tol=1e-6):\n",
    "    n = A.shape[0]\n",
    "    V = np.eye(n)\n",
    "\n",
    "    for _ in range(max_iter):\n",
    "        Q, R = np.linalg.qr(A)\n",
    "        A = np.dot(R, Q)\n",
    "        V = np.dot(V, Q)\n",
    "        if np.abs(A.diagonal(-1)).max() < tol:\n",
    "            break\n",
    "\n",
    "    eigenvalues = A.diagonal()\n",
    "    return eigenvalues, V\n",
    "\n",
    "\n",
    "A=np.array([[5,-2],[-2,8]])\n",
    "eigenvalues, eigenvectors = qr_eigenvalues(A)\n",
    "print(\"Eigenvalues using QR decomposition:\",eigenvalues)\n",
    "eigenvalues1, eigenvectors1=np.linalg.eigh(A)\n",
    "print(\"Eigenvalues using numpy.linalg.eigh:\",eigenvalues1)"
   ]
  },
  {
   "cell_type": "markdown",
   "id": "45bf1adb",
   "metadata": {},
   "source": [
    "### Question 18"
   ]
  },
  {
   "cell_type": "code",
   "execution_count": 295,
   "id": "e292274a",
   "metadata": {},
   "outputs": [
    {
     "name": "stdout",
     "output_type": "stream",
     "text": [
      "Dominant eigenvalue: 3.4066566424862823\n"
     ]
    }
   ],
   "source": [
    "import numpy as np\n",
    "\n",
    "def power_method(A, max_iter=1000, tol=0.01):\n",
    "    n = A.shape[0]\n",
    "    x = np.random.rand(n)\n",
    "    x /= np.linalg.norm(x)\n",
    "    ev0 = 0\n",
    "\n",
    "    for k in range(max_iter):\n",
    "        x_new = np.matmul(A, x)\n",
    "        ev = np.dot(x_new, x)\n",
    "        x_new /= np.linalg.norm(x_new)\n",
    "\n",
    "        if abs(ev0 - ev)/ev < tol:\n",
    "            break\n",
    "\n",
    "        x = x_new\n",
    "        ev0 = ev\n",
    "\n",
    "    return ev\n",
    "\n",
    "# Example matrix\n",
    "A = np.array([[2,-1,0],[-1,2,-1],[0,-1,2]])\n",
    "\n",
    "# Apply Power Method to find dominant eigenvalue and eigenvector\n",
    "eigenvalue = power_method(A)\n",
    "\n",
    "print(\"Dominant eigenvalue:\", eigenvalue)"
   ]
  },
  {
   "cell_type": "markdown",
   "id": "4ebd1376",
   "metadata": {},
   "source": [
    "### Question 19"
   ]
  },
  {
   "cell_type": "code",
   "execution_count": 269,
   "id": "c00eb1df",
   "metadata": {},
   "outputs": [],
   "source": [
    "import time\n",
    "\n",
    "def sigma(sv, m, n):\n",
    "    Sigma = np.zeros((m, n))\n",
    "\n",
    "    min_dim = min(m, n)\n",
    "    Sigma[:min_dim, :min_dim] = np.diag(sv)\n",
    "\n",
    "    return Sigma"
   ]
  },
  {
   "cell_type": "code",
   "execution_count": 270,
   "id": "cf07d793",
   "metadata": {
    "scrolled": true
   },
   "outputs": [
    {
     "name": "stdout",
     "output_type": "stream",
     "text": [
      "Matrix(U): [[-0.92387953 -0.38268343]\n",
      " [-0.38268343  0.92387953]]\n",
      "Matrix(S): [[2.41421356 0.        ]\n",
      " [0.         0.41421356]]\n",
      "Matrix(V): [[-0.92387953 -0.38268343]\n",
      " [ 0.38268343 -0.92387953]]\n",
      "Matrix Product(USV): [[ 2.00000000e+00  1.00000000e+00]\n",
      " [ 1.00000000e+00 -3.81016887e-17]]\n",
      "Time for computation 0.013469457626342773\n"
     ]
    }
   ],
   "source": [
    "st = time.time()\n",
    "A1=np.array([[2,1],[1,0]])\n",
    "U1,S1,V1=np.linalg.svd(A1)\n",
    "\n",
    "Sigma1 = sigma(S1,U1.shape[1],V1.shape[1])\n",
    "\n",
    "D1=np.dot(np.dot(U1,Sigma1),V1)\n",
    "\n",
    "et = time.time()\n",
    "print(\"Matrix(U):\",U1)\n",
    "\n",
    "print(\"Matrix(S):\",Sigma1)\n",
    "\n",
    "print(\"Matrix(V):\",V1)\n",
    "\n",
    "print(\"Matrix Product(USV):\",D1)\n",
    "\n",
    "print(\"Time for computation\",et-st)"
   ]
  },
  {
   "cell_type": "code",
   "execution_count": 271,
   "id": "74078549",
   "metadata": {
    "scrolled": true
   },
   "outputs": [
    {
     "name": "stdout",
     "output_type": "stream",
     "text": [
      "Matrix(U): [[-9.12870929e-01  4.80183453e-17 -4.08248290e-01]\n",
      " [-3.65148372e-01 -4.47213595e-01  8.16496581e-01]\n",
      " [-1.82574186e-01  8.94427191e-01  4.08248290e-01]]\n",
      "Matrix(S): [[2.44948974 0.        ]\n",
      " [0.         1.        ]\n",
      " [0.         0.        ]]\n",
      "Matrix(V): [[-0.89442719 -0.4472136 ]\n",
      " [-0.4472136   0.89442719]]\n",
      "Matrix Product(USV): [[ 2.00000000e+00  1.00000000e+00]\n",
      " [ 1.00000000e+00 -6.81060746e-17]\n",
      " [-1.23617226e-16  1.00000000e+00]]\n",
      "Time for computation 0.0010411739349365234\n"
     ]
    }
   ],
   "source": [
    "st = time.time()\n",
    "A2=np.array([[2,1],[1,0],[0,1]])\n",
    "U2,S2,V2=np.linalg.svd(A2)\n",
    "\n",
    "Sigma2 = sigma(S2,U2.shape[1],V2.shape[1])\n",
    "\n",
    "D2=np.dot(np.dot(U2,Sigma2),V2)\n",
    "\n",
    "et = time.time()\n",
    "print(\"Matrix(U):\",U2)\n",
    "\n",
    "print(\"Matrix(S):\",Sigma2)\n",
    "\n",
    "print(\"Matrix(V):\",V2)\n",
    "\n",
    "print(\"Matrix Product(USV):\",D2)\n",
    "\n",
    "print(\"Time for computation\",et-st)"
   ]
  },
  {
   "cell_type": "code",
   "execution_count": 272,
   "id": "cecde726",
   "metadata": {
    "scrolled": true
   },
   "outputs": [
    {
     "name": "stdout",
     "output_type": "stream",
     "text": [
      "Matrix(U): [[-0.63245553 -0.5        -0.52229321 -0.27786652]\n",
      " [ 0.31622777 -0.5        -0.30196857  0.74753928]\n",
      " [-0.31622777 -0.5         0.79704714  0.12130893]\n",
      " [-0.63245553  0.5        -0.02721464  0.59098169]]\n",
      "Matrix(S): [[3.16227766 0.        ]\n",
      " [0.         2.        ]\n",
      " [0.         0.        ]\n",
      " [0.         0.        ]]\n",
      "Matrix(V): [[-1. -0.]\n",
      " [-0. -1.]]\n",
      "Matrix Product(USV): [[ 2.  1.]\n",
      " [-1.  1.]\n",
      " [ 1.  1.]\n",
      " [ 2. -1.]]\n",
      "Time for computation 0.0\n"
     ]
    }
   ],
   "source": [
    "st = time.time()\n",
    "A3=np.array([[2,1],[-1,1],[1,1],[2,-1]])\n",
    "U3,S3,V3=np.linalg.svd(A3)\n",
    "\n",
    "Sigma3 = sigma(S3,U3.shape[1],V3.shape[1])\n",
    "\n",
    "D3=np.dot(np.dot(U3,Sigma3),V3)\n",
    "\n",
    "et = time.time()\n",
    "print(\"Matrix(U):\",U3)\n",
    "\n",
    "print(\"Matrix(S):\",Sigma3)\n",
    "\n",
    "print(\"Matrix(V):\",V3)\n",
    "\n",
    "print(\"Matrix Product(USV):\",D3)\n",
    "\n",
    "print(\"Time for computation\",et-st)"
   ]
  },
  {
   "cell_type": "code",
   "execution_count": 273,
   "id": "b75a8b11",
   "metadata": {},
   "outputs": [
    {
     "name": "stdout",
     "output_type": "stream",
     "text": [
      "Matrix(U): [[-4.36435780e-01  7.07106781e-01  4.08248290e-01 -3.77964473e-01]\n",
      " [ 4.36435780e-01  7.07106781e-01 -4.08248290e-01  3.77964473e-01]\n",
      " [-4.36435780e-01  3.33066907e-16 -8.16496581e-01 -3.77964473e-01]\n",
      " [-6.54653671e-01  3.33066907e-16 -5.55111512e-17  7.55928946e-01]]\n",
      "Matrix(S): [[2.64575131 0.         0.        ]\n",
      " [0.         1.         0.        ]\n",
      " [0.         0.         1.        ]\n",
      " [0.         0.         0.        ]]\n",
      "Matrix(V): [[-0.57735027 -0.57735027  0.57735027]\n",
      " [ 0.          0.70710678  0.70710678]\n",
      " [ 0.81649658 -0.40824829  0.40824829]]\n",
      "Matrix Product(USV): [[ 1.00000000e+00  1.00000000e+00  2.52368982e-17]\n",
      " [-1.00000000e+00  1.27610516e-17  1.00000000e+00]\n",
      " [-8.05746207e-17  1.00000000e+00 -1.00000000e+00]\n",
      " [ 1.00000000e+00  1.00000000e+00 -1.00000000e+00]]\n",
      "Time for computation 0.0010106563568115234\n"
     ]
    }
   ],
   "source": [
    "st = time.time()\n",
    "A4=np.array([[1,1,0],[-1,0,1],[0,1,-1],[1,1,-1]])\n",
    "U4,S4,V4=np.linalg.svd(A4)\n",
    "\n",
    "Sigma4 = sigma(S4,U4.shape[1],V4.shape[1])\n",
    "\n",
    "D4=np.dot(np.dot(U4,Sigma4),V4)\n",
    "\n",
    "et = time.time()\n",
    "print(\"Matrix(U):\",U4)\n",
    "\n",
    "print(\"Matrix(S):\",Sigma4)\n",
    "\n",
    "print(\"Matrix(V):\",V4)\n",
    "\n",
    "print(\"Matrix Product(USV):\",D4)\n",
    "\n",
    "print(\"Time for computation\",et-st)"
   ]
  },
  {
   "cell_type": "code",
   "execution_count": 274,
   "id": "fd84203e",
   "metadata": {},
   "outputs": [
    {
     "name": "stdout",
     "output_type": "stream",
     "text": [
      "Matrix(U): [[-5.47722558e-01 -4.11856119e-16  7.07106781e-01 -1.32058463e-01\n",
      "  -4.27271064e-01]\n",
      " [-3.65148372e-01  4.08248290e-01  1.60009123e-16 -5.43516408e-01\n",
      "   6.36073827e-01]\n",
      " [-5.47722558e-01  1.63994382e-16 -7.07106781e-01 -1.32058463e-01\n",
      "  -4.27271064e-01]\n",
      " [-3.65148372e-01  4.08248290e-01  2.13371358e-16  8.07633333e-01\n",
      "   2.18468301e-01]\n",
      " [-3.65148372e-01 -8.16496581e-01 -9.35206447e-17  1.32058463e-01\n",
      "   4.27271064e-01]]\n",
      "Matrix(S): [[2.23606798 0.         0.        ]\n",
      " [0.         1.41421356 0.        ]\n",
      " [0.         0.         1.        ]\n",
      " [0.         0.         0.        ]\n",
      " [0.         0.         0.        ]]\n",
      "Matrix(V): [[-4.08248290e-01 -8.16496581e-01 -4.08248290e-01]\n",
      " [-5.77350269e-01  5.77350269e-01 -5.77350269e-01]\n",
      " [-7.07106781e-01  3.33066907e-16  7.07106781e-01]]\n",
      "Matrix Product(USV): [[-1.92849653e-16  1.00000000e+00  1.00000000e+00]\n",
      " [-1.95456893e-16  1.00000000e+00 -6.86829266e-16]\n",
      " [ 1.00000000e+00  1.00000000e+00 -4.43466881e-16]\n",
      " [-1.94853750e-16  1.00000000e+00 -6.66271678e-16]\n",
      " [ 1.00000000e+00 -6.94591974e-16  1.00000000e+00]]\n",
      "Time for computation 0.0009982585906982422\n"
     ]
    }
   ],
   "source": [
    "st = time.time()\n",
    "A5=np.array([[0,1,1],[0,1,0],[1,1,0],[0,1,0],[1,0,1]])\n",
    "U5,S5,V5=np.linalg.svd(A5)\n",
    "\n",
    "Sigma5 = sigma(S5,U5.shape[1],V5.shape[1])\n",
    "\n",
    "D5=np.dot(np.dot(U5,Sigma5),V5)\n",
    "\n",
    "et = time.time()\n",
    "print(\"Matrix(U):\",U5)\n",
    "\n",
    "print(\"Matrix(S):\",Sigma5)\n",
    "\n",
    "print(\"Matrix(V):\",V5)\n",
    "\n",
    "print(\"Matrix Product(USV):\",D5)\n",
    "\n",
    "print(\"Time for computation\",et-st)"
   ]
  },
  {
   "cell_type": "markdown",
   "id": "3019dd32",
   "metadata": {},
   "source": [
    "# Experimental Scripts"
   ]
  },
  {
   "cell_type": "code",
   "execution_count": 231,
   "id": "28a8d4a4",
   "metadata": {
    "scrolled": false
   },
   "outputs": [
    {
     "name": "stdout",
     "output_type": "stream",
     "text": [
      "Iteration 0 :\n",
      "r=\n",
      "\\begin{bmatrix}\n",
      "  2.4\\times 10^{-01} &  1.3\\times 10^{-01}\n",
      "\\end{bmatrix}\n",
      "Av=\n",
      "\\begin{bmatrix}\n",
      "  3.0\\times 10^{-01} &  1.6\\times 10^{-01}\n",
      "\\end{bmatrix}\n",
      "t= 7.9e-01\n",
      "x=\n",
      "\\begin{bmatrix}\n",
      "  1.9\\times 10^{-01} &  1.0\\times 10^{-01}\n",
      "\\end{bmatrix}\n",
      "r=\n",
      "\\begin{bmatrix}\n",
      " -7.6\\times 10^{-04} &  1.4\\times 10^{-03}\n",
      "\\end{bmatrix}\n",
      "|r|^2= 2.6e-06\n",
      "Iteration 1 :\n",
      "r=\n",
      "\\begin{bmatrix}\n",
      " -7.6\\times 10^{-04} &  1.4\\times 10^{-03}\n",
      "\\end{bmatrix}\n",
      "Av=\n",
      "\\begin{bmatrix}\n",
      " -5.9\\times 10^{-05} &  8.3\\times 10^{-05}\n",
      "\\end{bmatrix}\n",
      "t= 1.6e+01\n",
      "x=\n",
      "\\begin{bmatrix}\n",
      "  1.8\\times 10^{-01} &  1.2\\times 10^{-01}\n",
      "\\end{bmatrix}\n",
      "r=\n",
      "\\begin{bmatrix}\n",
      "  1.7\\times 10^{-04} &  9.0\\times 10^{-05}\n",
      "\\end{bmatrix}\n",
      "|r|^2= 3.6e-08\n",
      "Solution: [1.8e-01 1.2e-01]\n",
      "Number of iterations: 2\n"
     ]
    }
   ],
   "source": [
    "import numpy as np\n",
    "import array_to_latex as a2l\n",
    "# Steepest Descent method\n",
    "def conjugate_gradient(A, b, x0, tol=0.001, max_iter=1000):\n",
    "    \"\"\"\n",
    "    Solve the linear system Ax = b using Conjugate Gradient method.\n",
    "\n",
    "    Parameters:\n",
    "        A (numpy.ndarray): Coefficient matrix.\n",
    "        b (numpy.ndarray): Right-hand side vector.\n",
    "        x0 (numpy.ndarray): Initial guess for the solution.\n",
    "        tol (float): Tolerance for convergence.\n",
    "        max_iter (int): Maximum number of iterations.\n",
    "\n",
    "    Returns:\n",
    "        x (numpy.ndarray): Solution vector.\n",
    "        num_iter (int): Number of iterations performed.\n",
    "    \"\"\"\n",
    "    fm = '{:1.1e}'\n",
    "    float_formatter = fm.format\n",
    "    np.set_printoptions(formatter={'float_kind':float_formatter})\n",
    "    r = b - np.dot(A, x0)\n",
    "    v = r\n",
    "    x = x0\n",
    "    rsold = np.dot(r, r)\n",
    "    for i in range(max_iter):\n",
    "        print(\"Iteration\",i,\":\")\n",
    "        print(\"r=\")\n",
    "        a2l.to_ltx(r, frmt = fm, arraytype = 'bmatrix')\n",
    "        Av = np.dot(A, v)\n",
    "        print(\"Av=\")\n",
    "        a2l.to_ltx(Av, frmt = fm, arraytype = 'bmatrix')\n",
    "        t = np.dot(r,v) / np.dot(v, Av)\n",
    "        print(\"t=\",fm.format(t))\n",
    "        x = x + t * v\n",
    "        print(\"x=\")\n",
    "        a2l.to_ltx(x, frmt = fm, arraytype = 'bmatrix')\n",
    "        r = b - np.dot(A,x)\n",
    "        v = r\n",
    "        print(\"r=\")\n",
    "        a2l.to_ltx(r, frmt = fm, arraytype = 'bmatrix')\n",
    "        rsnew = np.dot(r, r)\n",
    "        print(\"|r|^2=\",fm.format(rsnew))\n",
    "        if np.sqrt(rsnew) < tol:\n",
    "            break\n",
    "    return x, i+1\n",
    "\n",
    "# Solving by steepest descent method\n",
    "A = np.array([[1.00,0.50],[0.50,0.33]])\n",
    "b = np.array([0.24,0.13])\n",
    "x0 = np.array([0,0])\n",
    "solution, iterations = conjugate_gradient(A, b, x0)\n",
    "print(\"Solution:\", solution)\n",
    "print(\"Number of iterations:\", iterations)\n"
   ]
  },
  {
   "cell_type": "code",
   "execution_count": null,
   "id": "39e41ae6",
   "metadata": {},
   "outputs": [],
   "source": []
  },
  {
   "cell_type": "code",
   "execution_count": null,
   "id": "068e8764",
   "metadata": {},
   "outputs": [],
   "source": []
  },
  {
   "cell_type": "code",
   "execution_count": null,
   "id": "fdb433cf",
   "metadata": {},
   "outputs": [],
   "source": []
  },
  {
   "cell_type": "code",
   "execution_count": null,
   "id": "791ed5ab",
   "metadata": {},
   "outputs": [],
   "source": []
  }
 ],
 "metadata": {
  "kernelspec": {
   "display_name": "Python 3 (ipykernel)",
   "language": "python",
   "name": "python3"
  },
  "language_info": {
   "codemirror_mode": {
    "name": "ipython",
    "version": 3
   },
   "file_extension": ".py",
   "mimetype": "text/x-python",
   "name": "python",
   "nbconvert_exporter": "python",
   "pygments_lexer": "ipython3",
   "version": "3.9.7"
  }
 },
 "nbformat": 4,
 "nbformat_minor": 5
}
