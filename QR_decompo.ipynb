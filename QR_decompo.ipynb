{
  "nbformat": 4,
  "nbformat_minor": 0,
  "metadata": {
    "colab": {
      "provenance": [],
      "authorship_tag": "ABX9TyObMBbM2/ck86PdrmdrUz+l",
      "include_colab_link": true
    },
    "kernelspec": {
      "name": "python3",
      "display_name": "Python 3"
    },
    "language_info": {
      "name": "python"
    }
  },
  "cells": [
    {
      "cell_type": "markdown",
      "metadata": {
        "id": "view-in-github",
        "colab_type": "text"
      },
      "source": [
        "<a href=\"https://colab.research.google.com/github/oven8/Computational-Physics-2024/blob/main/QR_decompo.ipynb\" target=\"_parent\"><img src=\"https://colab.research.google.com/assets/colab-badge.svg\" alt=\"Open In Colab\"/></a>"
      ]
    },
    {
      "cell_type": "code",
      "execution_count": 35,
      "metadata": {
        "colab": {
          "base_uri": "https://localhost:8080/"
        },
        "id": "D43nTYZiqpN4",
        "outputId": "96bba2b0-c4e1-411c-f237-97e52b8b4d63"
      },
      "outputs": [
        {
          "output_type": "stream",
          "name": "stdout",
          "text": [
            "[7. 3.]\n",
            "[[ 0.70710678  0.70710678]\n",
            " [-0.70710678  0.70710678]]\n",
            "Eigenvalues: [7. 3.]\n",
            "Eigenvectors:\n",
            "[[1. 0.]\n",
            " [0. 1.]]\n"
          ]
        }
      ],
      "source": [
        "import numpy as np\n",
        "def qr_algorithm(A, num_iterations=10000):\n",
        "\n",
        "    for _ in range(num_iterations):\n",
        "        Q, R = np.linalg.qr(A)\n",
        "        A= R @ Q\n",
        "    eigenvalues = np.diag(A)\n",
        "    eigenvectors = Q\n",
        "\n",
        "    return eigenvalues, eigenvectors\n",
        "\n",
        "# Define a matrix A\n",
        "A = np.array([[5, -2], [-2, 5]])\n",
        "E_val,E_vec =np.linalg.eig(A)\n",
        "print(E_val)\n",
        "print(E_vec)\n",
        "\n",
        "# Perform QR algorithm to find eigenvalues and eigenvectors\n",
        "eigenvalues, eigenvectors = qr_algorithm(A)\n",
        "# Print the eigenvalues and eigenvectors\n",
        "print(\"Eigenvalues:\", eigenvalues)\n",
        "print(\"Eigenvectors:\")\n",
        "print(eigenvectors)\n"
      ]
    },
    {
      "cell_type": "code",
      "source": [
        "import numpy as np\n",
        "\n",
        "# Relaxation method\n",
        "def relaxation_method(A, b, x0, tolerance=0.01, max_iterations=1000, omega=1.25):\n",
        "    \"\"\"\n",
        "    Solve a system of linear equations using the Relaxation method.\n",
        "\n",
        "    Arguments:\n",
        "    A: 2D array representing the coefficients of the linear equations\n",
        "    b: 1D array representing the constants on the right-hand side of the equations\n",
        "    x0: 1D array representing the initial guess for the solution\n",
        "    tolerance: Desired tolerance for the solution\n",
        "    max_iterations: Maximum number of iterations allowed\n",
        "    omega: Relaxation parameter (typically between 1 and 2)\n",
        "\n",
        "    Returns:\n",
        "    solution: 1D array representing the solution to the system of linear equations\n",
        "    num_iterations: Number of iterations performed\n",
        "    \"\"\"\n",
        "    n = len(b)\n",
        "    solution = np.copy(x0)\n",
        "    for iteration in range(max_iterations):\n",
        "        old_solution = np.copy(solution)\n",
        "        for i in range(n):\n",
        "            summation = 0.0\n",
        "            for j in range(n):\n",
        "                if j != i:\n",
        "                    summation=summation+A[i][j] * solution[j]\n",
        "            solution[i] = (1 - omega) * old_solution[i] + (omega / A[i][i]) * (b[i] - summation)\n",
        "        if np.linalg.norm(solution - old_solution) < tolerance:\n",
        "            return solution, iteration + 1\n",
        "    print(\"Warning: Maximum number of iterations reached without convergence.\")\n",
        "    return solution, max_iterations\n",
        "\n",
        "# Solving by Relaxation method\n",
        "A = np.array([[4, 1, 1,1,1], [-1, -3, 1,1,0], [2,1,5, -1,-1],[-1,-1,-1,4,0],[0,2,-1,1,4]])\n",
        "b = np.array([6, 6,6,6,6])\n",
        "x0 = np.array([0, 0,0,0,0])\n",
        "\n",
        "solution, num_iterations = relaxation_method(A, b, x0)\n",
        "\n",
        "print(\"Solution:\", solution)\n",
        "print(\"Number of iterations:\", num_iterations)"
      ],
      "metadata": {
        "colab": {
          "base_uri": "https://localhost:8080/"
        },
        "id": "4e7XipZDERLl",
        "outputId": "6d61c4d9-ce74-4f89-b3df-8af96e29a313"
      },
      "execution_count": 6,
      "outputs": [
        {
          "output_type": "stream",
          "name": "stdout",
          "text": [
            "Solution: [ 0 -1  2  1  2]\n",
            "Number of iterations: 3\n"
          ]
        }
      ]
    },
    {
      "cell_type": "code",
      "source": [
        " !pip install array-to-latex\n",
        ""
      ],
      "metadata": {
        "colab": {
          "base_uri": "https://localhost:8080/"
        },
        "id": "PEYcTmMDF6fj",
        "outputId": "1f06d2ba-f406-4184-f434-62b8929b94c2"
      },
      "execution_count": 7,
      "outputs": [
        {
          "output_type": "stream",
          "name": "stdout",
          "text": [
            "Collecting array-to-latex\n",
            "  Downloading array_to_latex-0.91-py3-none-any.whl (6.0 kB)\n",
            "Requirement already satisfied: numpy in /usr/local/lib/python3.10/dist-packages (from array-to-latex) (1.25.2)\n",
            "Requirement already satisfied: pandas in /usr/local/lib/python3.10/dist-packages (from array-to-latex) (1.5.3)\n",
            "Collecting clipboard (from array-to-latex)\n",
            "  Downloading clipboard-0.0.4.tar.gz (1.7 kB)\n",
            "  Preparing metadata (setup.py) ... \u001b[?25l\u001b[?25hdone\n",
            "Requirement already satisfied: pyperclip>=1.3 in /usr/local/lib/python3.10/dist-packages (from clipboard->array-to-latex) (1.8.2)\n",
            "Requirement already satisfied: python-dateutil>=2.8.1 in /usr/local/lib/python3.10/dist-packages (from pandas->array-to-latex) (2.8.2)\n",
            "Requirement already satisfied: pytz>=2020.1 in /usr/local/lib/python3.10/dist-packages (from pandas->array-to-latex) (2023.4)\n",
            "Requirement already satisfied: six>=1.5 in /usr/local/lib/python3.10/dist-packages (from python-dateutil>=2.8.1->pandas->array-to-latex) (1.16.0)\n",
            "Building wheels for collected packages: clipboard\n",
            "  Building wheel for clipboard (setup.py) ... \u001b[?25l\u001b[?25hdone\n",
            "  Created wheel for clipboard: filename=clipboard-0.0.4-py3-none-any.whl size=1846 sha256=6b84cdc7e472c298b7d08c6ec0649b93660cfb8e9e25950824ca9603698d0e50\n",
            "  Stored in directory: /root/.cache/pip/wheels/a9/16/29/0b45762bf14ad4ba5495cd4ce66c7e326ecb0d5f1edeb7c94d\n",
            "Successfully built clipboard\n",
            "Installing collected packages: clipboard, array-to-latex\n",
            "Successfully installed array-to-latex-0.91 clipboard-0.0.4\n"
          ]
        }
      ]
    },
    {
      "cell_type": "markdown",
      "source": [],
      "metadata": {
        "id": "BJBl6qmmt0y1"
      }
    }
  ]
}