{
 "cells": [
  {
   "cell_type": "code",
   "execution_count": 258,
   "id": "e8c23100",
   "metadata": {},
   "outputs": [],
   "source": [
    "import numpy as np\n",
    "import matplotlib.pyplot as plt\n",
    "# This part calls for the tex package with Palantino font family \n",
    "# Note latex should be installed in the system to run this\n",
    "plt.rcParams.update({\n",
    "    \"text.usetex\": True,\n",
    "    \"font.family\": \"Palatino\"\n",
    "})\n",
    "from math import *"
   ]
  },
  {
   "cell_type": "code",
   "execution_count": 259,
   "id": "c8578a71",
   "metadata": {
    "scrolled": true
   },
   "outputs": [
    {
     "data": {
      "text/plain": [
       "((3001, 3001), (3001, 3001), (3001, 3001))"
      ]
     },
     "execution_count": 259,
     "metadata": {},
     "output_type": "execute_result"
    }
   ],
   "source": [
    "meshlim = 100\n",
    "meshsize = 3001\n",
    "x = np.linspace(-meshlim, meshlim, meshsize)\n",
    "y = np.linspace(-meshlim, meshlim, meshsize)\n",
    "# full coordinate arrays\n",
    "xx, yy = np.meshgrid(x, y)\n",
    "zz = np.exp(-(xx**2 + yy**2))\n",
    "xx.shape, yy.shape, zz.shape"
   ]
  },
  {
   "cell_type": "code",
   "execution_count": 260,
   "id": "819ec835",
   "metadata": {},
   "outputs": [],
   "source": [
    "Delta = 2*meshlim/(meshsize-1)\n",
    "kx = (2*np.pi/(meshsize*Delta))*np.arange(-(meshsize-1)/2,(meshsize-1)/2+1)\n",
    "ky = (2*np.pi/(meshsize*Delta))*np.arange(-(meshsize-1)/2,(meshsize-1)/2+1)\n",
    "kxx, kyy = np.meshgrid(kx, ky)\n",
    "kzz = 0.5*np.exp(-(kxx**2+kyy**2)/4)"
   ]
  },
  {
   "cell_type": "code",
   "execution_count": 261,
   "id": "9d69656f",
   "metadata": {},
   "outputs": [],
   "source": [
    "omegazz = np.fft.fft2(zz,norm=\"ortho\")\n",
    "omegazz = np.fft.fftshift(omegazz)"
   ]
  },
  {
   "cell_type": "code",
   "execution_count": 262,
   "id": "3b710877",
   "metadata": {},
   "outputs": [],
   "source": [
    "factor = (Delta**2)*(meshsize/(2*np.pi))*np.exp(-1j*(kxx*np.min(x)+kyy*np.min(y)))\n",
    "ft_omegazz = factor*omegazz"
   ]
  },
  {
   "cell_type": "code",
   "execution_count": null,
   "id": "558ff4b8",
   "metadata": {
    "scrolled": false
   },
   "outputs": [],
   "source": [
    "fig1 = plt.figure(figsize=(10,10))\n",
    "ax1 = plt.axes(projection='3d')\n",
    "ax1.contour3D(kxx, kyy, ft_omegazz,100)\n",
    "ax1.view_init(15, 35)\n",
    "plt.show()"
   ]
  },
  {
   "cell_type": "code",
   "execution_count": null,
   "id": "b75998ae",
   "metadata": {},
   "outputs": [],
   "source": [
    "fig2 = plt.figure(figsize=(10,10))\n",
    "ax2 = plt.axes(projection='3d')\n",
    "ax2.contour3D(kx, ky, kzz, 100)\n",
    "ax2.view_init(15, 35)\n",
    "plt.show()"
   ]
  },
  {
   "cell_type": "code",
   "execution_count": null,
   "id": "35ab930c",
   "metadata": {},
   "outputs": [],
   "source": [
    "np.allclose(ft_omegazz,kzz)"
   ]
  },
  {
   "cell_type": "code",
   "execution_count": null,
   "id": "7df45376",
   "metadata": {},
   "outputs": [],
   "source": []
  },
  {
   "cell_type": "code",
   "execution_count": null,
   "id": "d4537f59",
   "metadata": {},
   "outputs": [],
   "source": []
  }
 ],
 "metadata": {
  "kernelspec": {
   "display_name": "Python 3 (ipykernel)",
   "language": "python",
   "name": "python3"
  },
  "language_info": {
   "codemirror_mode": {
    "name": "ipython",
    "version": 3
   },
   "file_extension": ".py",
   "mimetype": "text/x-python",
   "name": "python",
   "nbconvert_exporter": "python",
   "pygments_lexer": "ipython3",
   "version": "3.9.7"
  }
 },
 "nbformat": 4,
 "nbformat_minor": 5
}
