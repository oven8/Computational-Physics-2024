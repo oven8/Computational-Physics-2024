{
 "cells": [
  {
   "cell_type": "code",
   "execution_count": 1,
   "id": "55207348",
   "metadata": {},
   "outputs": [],
   "source": [
    "import numpy as np\n",
    "import matplotlib.pyplot as plt\n",
    "# This part calls for the tex package with Palantino font family \n",
    "# Note latex should be installed in the system to run this\n",
    "plt.rcParams.update({\n",
    "    \"text.usetex\": True,\n",
    "    \"font.family\": \"Palatino\"\n",
    "})\n",
    "from math import *"
   ]
  },
  {
   "cell_type": "code",
   "execution_count": 25,
   "id": "c9a21809",
   "metadata": {
    "scrolled": true
   },
   "outputs": [
    {
     "data": {
      "text/plain": [
       "((1001, 1001), (1001, 1001), (1001, 1001))"
      ]
     },
     "execution_count": 25,
     "metadata": {},
     "output_type": "execute_result"
    }
   ],
   "source": [
    "x = np.linspace(-50, 50, 1001)\n",
    "y = np.linspace(-50, 50, 1001)\n",
    "# full coordinate arrays\n",
    "xx, yy = np.meshgrid(x, y)\n",
    "zz = np.exp(-(xx**2 + yy**2))\n",
    "xx.shape, yy.shape, zz.shape"
   ]
  },
  {
   "cell_type": "code",
   "execution_count": 33,
   "id": "cd067ed6",
   "metadata": {},
   "outputs": [],
   "source": [
    "Delta = 100/1000\n",
    "kx = (2*np.pi/(1001*Delta))*np.arange(-500,501)\n",
    "ky = (2*np.pi/(1001*Delta))*np.arange(-500,501)\n",
    "kxx, kyy = np.meshgrid(kx, ky)\n",
    "kzz = 0.5*np.exp(-(kxx**2+kyy**2)/4)"
   ]
  },
  {
   "cell_type": "code",
   "execution_count": 26,
   "id": "271b818d",
   "metadata": {},
   "outputs": [],
   "source": [
    "omegazz = np.fft.fft2(zz)\n",
    "omegazz = np.fft.fftshift(omegazz)"
   ]
  },
  {
   "cell_type": "code",
   "execution_count": 40,
   "id": "51e67e62",
   "metadata": {},
   "outputs": [],
   "source": [
    "factor = (Delta**2)*(1001/(2*np.pi))*np.exp(-(1j*kxx*np.min(x)+1j*kyy*np.min(y)))\n",
    "ft_omegazz = factor*omegazz"
   ]
  },
  {
   "cell_type": "code",
   "execution_count": 42,
   "id": "b618953d",
   "metadata": {},
   "outputs": [
    {
     "data": {
      "image/png": "[encoded data removed]",
      "text/plain": [
       "<Figure size 432x288 with 2 Axes>"
      ]
     },
     "metadata": {
      "needs_background": "light"
     },
     "output_type": "display_data"
    }
   ],
   "source": [
    "h = plt.contourf(kx, ky, np.abs(ft_omegazz))\n",
    "plt.axis('scaled')\n",
    "plt.colorbar()\n",
    "plt.show()"
   ]
  },
  {
   "cell_type": "code",
   "execution_count": 43,
   "id": "dae89e27",
   "metadata": {},
   "outputs": [
    {
     "data": {
      "text/plain": [
       "<matplotlib.image.AxesImage at 0x289a90d0940>"
      ]
     },
     "execution_count": 43,
     "metadata": {},
     "output_type": "execute_result"
    },
    {
     "data": {
      "image/png": "[encoded data removed]",
      "text/plain": [
       "<Figure size 432x288 with 1 Axes>"
      ]
     },
     "metadata": {
      "needs_background": "light"
     },
     "output_type": "display_data"
    }
   ],
   "source": [
    "plt.imshow(np.abs(kzz))"
   ]
  },
  {
   "cell_type": "code",
   "execution_count": 44,
   "id": "d2f0435d",
   "metadata": {},
   "outputs": [
    {
     "data": {
      "text/plain": [
       "array([[ True,  True,  True, ...,  True,  True,  True],\n",
       "       [ True,  True,  True, ...,  True,  True,  True],\n",
       "       [ True,  True,  True, ...,  True,  True,  True],\n",
       "       ...,\n",
       "       [ True,  True,  True, ...,  True,  True,  True],\n",
       "       [ True,  True,  True, ...,  True,  True,  True],\n",
       "       [ True,  True,  True, ...,  True,  True,  True]])"
      ]
     },
     "execution_count": 44,
     "metadata": {},
     "output_type": "execute_result"
    }
   ],
   "source": [
    "np.isclose(np.abs(ft_omegazz),np.abs(kzz))"
   ]
  },
  {
   "cell_type": "code",
   "execution_count": null,
   "id": "dfe1a4cb",
   "metadata": {},
   "outputs": [],
   "source": []
  }
 ],
 "metadata": {
  "kernelspec": {
   "display_name": "Python 3 (ipykernel)",
   "language": "python",
   "name": "python3"
  },
  "language_info": {
   "codemirror_mode": {
    "name": "ipython",
    "version": 3
   },
   "file_extension": ".py",
   "mimetype": "text/x-python",
   "name": "python",
   "nbconvert_exporter": "python",
   "pygments_lexer": "ipython3",
   "version": "3.9.7"
  }
 },
 "nbformat": 4,
 "nbformat_minor": 5
}
