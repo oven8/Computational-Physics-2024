{
 "cells": [
  {
   "cell_type": "markdown",
   "id": "55395fb1",
   "metadata": {},
   "source": [
    "# Imports and Definitions"
   ]
  },
  {
   "cell_type": "code",
   "execution_count": 521,
   "id": "feb19268",
   "metadata": {},
   "outputs": [],
   "source": [
    "import numpy as np\n",
    "from queue import Queue\n",
    "from scipy.linalg import lu\n",
    "import matplotlib.pyplot as plt\n",
    "# This part calls for the tex package with Palantino font family \n",
    "# Note latex should be installed in the system to run this\n",
    "plt.rcParams.update({\n",
    "    \"text.usetex\": True,\n",
    "    \"font.family\": \"Palatino\"\n",
    "})\n",
    "from math import *"
   ]
  },
  {
   "cell_type": "code",
   "execution_count": 527,
   "id": "5ce8de8a",
   "metadata": {},
   "outputs": [],
   "source": [
    "class diff_eq_solver:\n",
    "    \n",
    "    def __init__(self, domain, h, y0, fn, *args, xb = None, stepsize = \"fixed\", constraints = \"initial\"):\n",
    "        \n",
    "        self.domain = domain\n",
    "        self.x_initial = domain[0]\n",
    "        self.x_final = domain[1]\n",
    "        self.h = h\n",
    "        self.y0 = y0\n",
    "        self.fn = fn\n",
    "        self.args = args\n",
    "        self.stepsize = stepsize\n",
    "        self.constraints = constraints\n",
    "        self.xb = xb\n",
    "        self.candidate_y = Queue(maxsize = 5)\n",
    "        \n",
    "        if stepsize == \"fixed\":\n",
    "            self.n = int((self.x_final-self.x_initial)/h)\n",
    "            self.x = np.linspace(self.x_initial,self.x_final,self.n)\n",
    "            self.y = np.zeros((len(self.y0),self.n))\n",
    "        \n",
    "        elif stepsize == \"adaptive\":\n",
    "            self.x = []\n",
    "            self.y = []\n",
    "            \n",
    "        else:\n",
    "            raise ValueError(\"stepsize takes values 'fixed'/'adaptive'.\")\n",
    "            \n",
    "        if constraints == \"boundary\" and len(self.fn)!=2:\n",
    "            raise ValueError(\"Boundary value is implemented for only two variable/second order differential equations.\")\n",
    "        \n",
    "        if constraints == \"boundary\" and xb == None:\n",
    "            raise ValueError(\"Value for xb missing.\")\n",
    "        \n",
    "        if (constraints != \"initial\" and constraints != \"boundary\"):\n",
    "            raise ValueError(\"constraints takes values 'initial'/'boundary'.\")\n",
    "        \n",
    "\n",
    "    def Runge_Kutta_4(self, delta=1e-3):\n",
    "        \n",
    "        def RK_sequence(func, xi, yi, h):\n",
    "            ylist = list(yi)\n",
    "            k1 = h * func(xi,*ylist,*self.args)\n",
    "            ylist = list(np.array(yi)+k1*0.5)\n",
    "            k2 = h * func(xi+h*0.5,*ylist,*self.args)\n",
    "            ylist = list(np.array(yi)+k2*0.5)\n",
    "            k3 = h * func(xi+h*0.5,*ylist,*self.args)\n",
    "            ylist = list(np.array(yi)+k3)\n",
    "            k4 = h * func(xi+h,*ylist,*self.args)\n",
    "            return (1/6)*(k1+2*k2+2*k3+k4)\n",
    "        \n",
    "        if self.stepsize == \"fixed\":\n",
    "            self.y = np.zeros((len(self.y0),self.n))\n",
    "            for i in range(0,len(self.y0)):\n",
    "                self.y[i,0]=self.y0[i]\n",
    "            for i in range(0,self.n-1):\n",
    "                j=0\n",
    "                for func in self.fn:\n",
    "                    #ylist=list(self.y[:,i])\n",
    "                    #k1=self.h*func(self.x[i],*ylist,*self.args)\n",
    "                    #ylist=list(self.y[:,i]+k1*0.5)\n",
    "                    #k2=self.h*func(self.x[i]+self.h*0.5,*ylist,*self.args)\n",
    "                    #ylist=list(self.y[:,i]+k2*0.5)\n",
    "                    #k3=self.h*func(self.x[i]+self.h*0.5,*ylist,*self.args)\n",
    "                    #ylist=list(self.y[:,i]+k3)\n",
    "                    #k4=self.h*func(self.x[i]+self.h,*ylist,*self.args)\n",
    "                    #self.y[j,i+1]=self.y[j,i]+(1/6)*(k1+2*k2+2*k3+k4)\n",
    "                    self.y[j,i+1]=self.y[j,i]+RK_sequence(func,self.x[i],self.y[:,i],self.h)\n",
    "                    j=j+1\n",
    "                    \n",
    "        if self.stepsize == \"adaptive\":\n",
    "            self.y.append(np.array(self.y0))\n",
    "            self.x.append(self.x_initial)\n",
    "            while(self.x[-1]<=self.x_final):\n",
    "                y_cache = np.zeros(len(self.fn))\n",
    "                er = []\n",
    "                for func in self.fn:\n",
    "                    er.append(abs(RK_sequence(func, self.x[-1], self.y[-1][:], 2*self.h)\n",
    "                                  -RK_sequence(func, self.x[-1], self.y[-1][:], self.h))/30)\n",
    "                er_norm = np.linalg.norm(er)\n",
    "                self.h = self.h*(delta/er_norm)**(1/4)#self.h*(delta*self.h/er_norm)**(1/4)\n",
    "                self.x.append(self.x[-1]+self.h)\n",
    "                j=0\n",
    "                for func in self.fn:\n",
    "                    y_cache[j] = self.y[-1][j]+RK_sequence(func,self.x[-1],self.y[-1][:],self.h)\n",
    "                    j = j + 1\n",
    "                self.y.append(y_cache)\n",
    "            self.n = len(self.x)\n",
    "            self.x = np.array(self.x)\n",
    "            self.y = np.array(self.y).T\n",
    "            \n",
    "    def Euler_Method(self):\n",
    "        \n",
    "        if self.constraints == \"initial\":\n",
    "            self.y = np.zeros((len(self.y0),self.n))\n",
    "            for i in range(0,len(self.y0)):\n",
    "                self.y[i,0]=self.y0[i]\n",
    "            for i in range(0,self.n-1):\n",
    "                j=0\n",
    "                for func in self.fn:\n",
    "                    ylist=list(self.y[:,i])\n",
    "                    f=self.h*func(self.x[i],*ylist,*self.args)\n",
    "                    self.y[j,i+1]=self.y[j,i]+f\n",
    "                    j=j+1\n",
    "                    \n",
    "        if self.constraints == \"boundary\":\n",
    "            self.a = self.Newton_Raphson(self.__shooting_function, \"Euler_Method\")\n",
    "                \n",
    "    def Backward_Euler_Method(self):\n",
    "        \n",
    "        if len(self.fn) != 1:\n",
    "            raise ValueError(\"Backward Euler Method is implemented only for 1 variable differential equations.\")\n",
    "        \n",
    "        def back_g(om, func, x, om_j):\n",
    "            ylist = list()\n",
    "            return self.h * func(x, om, *self.args) + om_j - om\n",
    "        \n",
    "        self.y = np.zeros((len(self.y0),self.n))\n",
    "        for i in range(0,len(self.y0)):\n",
    "            self.y[i,0]=self.y0[i]\n",
    "        for i in range(0,self.n-1):\n",
    "            j=0\n",
    "            for func in self.fn:\n",
    "                ylist=list(self.y[:,i])\n",
    "                self.y[j,i+1]=self.Newton_Raphson(back_g, func, self.x[i+1], *ylist)\n",
    "                j=j+1\n",
    "        \n",
    "    def Newton_Raphson(self, eqn, *args, tol=1e-3):\n",
    "        x = 0.1\n",
    "        x_n = x+1\n",
    "        while (np.abs(x_n - x) > tol):\n",
    "            x_n = x\n",
    "            x = x_n-2*tol*eqn(x_n, *args)/(eqn(x_n+tol, *args)-eqn(x_n-tol, *args))\n",
    "        return x\n",
    "    \n",
    "    def __shooting_function(self, trial, method):\n",
    "        y0 = [self.y0[0],trial]\n",
    "        diff_eq = diff_eq_solver(self.domain, self.h, y0, self.fn, *self.args, xb = self.xb, stepsize = self.stepsize, constraints = \"initial\")\n",
    "        getattr(diff_eq,method)()\n",
    "        i1 = np.argmin(np.abs(diff_eq.x - self.xb))\n",
    "        self.candidate_y.put(diff_eq.y)\n",
    "        if self.candidate_y.full() == True:\n",
    "            self.candidate_y.get()\n",
    "        self.y = diff_eq.y\n",
    "        return (diff_eq.y[0,i1] - self.y0[1])\n",
    "        \n",
    "    def error(self, true_func, error_type=\"relative\"):\n",
    "        true_y = np.vectorize(true_func)(self.x,*self.args)\n",
    "        if error_type == \"absolute\":\n",
    "            er = np.abs(true_y-self.y)\n",
    "        if error_type == \"relative\":\n",
    "            er = np.abs((true_y-self.y)/true_y)\n",
    "        return np.average(er)\n",
    "    \n",
    "    @property\n",
    "    def plot(self):\n",
    "        plt.plot(self.x,self.y.T)\n",
    "        \n",
    "    def plot(\n",
    "        self, \n",
    "        plot_index, \n",
    "        title = r'Plot for $f(x)$ vs. $x$', \n",
    "        xlabel = r'$x$', \n",
    "        ylabel = r'$f(x)$'\n",
    "    ):\n",
    "        f, ax = plt.subplots(figsize=(10,5))\n",
    "        plt.title(title)\n",
    "        plt.xlabel(xlabel)\n",
    "        plt.ylabel(ylabel)\n",
    "        plt.grid()\n",
    "        #plt.axhline(y=0,color='black',linewidth=0.8)\n",
    "        plt.margins(x=0)\n",
    "        ax.plot(self.x,self.y[plot_index,:],label=plot_index)\n",
    "        #plt.legend()\n",
    "        return f, ax"
   ]
  },
  {
   "cell_type": "markdown",
   "id": "7d4b0411",
   "metadata": {},
   "source": [
    "## A couple of Tests"
   ]
  },
  {
   "cell_type": "code",
   "execution_count": 364,
   "id": "43acd06e",
   "metadata": {
    "scrolled": true
   },
   "outputs": [
    {
     "data": {
      "image/png": "[encoded data removed]",
      "text/plain": [
       "<Figure size 432x288 with 1 Axes>"
      ]
     },
     "metadata": {
      "needs_background": "light"
     },
     "output_type": "display_data"
    }
   ],
   "source": [
    "def testy(x,y):\n",
    "    return y\n",
    "\n",
    "def true_y(x):\n",
    "    return np.exp(x)\n",
    "\n",
    "y0=[1]\n",
    "fn=[testy]\n",
    "diff_eq_test1 = diff_eq_solver([0,5],0.01,y0,fn)\n",
    "diff_eq_test1.Runge_Kutta_4()\n",
    "er1 = diff_eq_test1.error(true_y)\n",
    "diff_eq_test1.plot\n",
    "diff_eq_test1.Euler_Method()\n",
    "er2 = diff_eq_test1.error(true_y)\n",
    "diff_eq_test1.plot\n",
    "diff_eq_test1.Backward_Euler_Method()\n",
    "er3 = diff_eq_test1.error(true_y)\n",
    "diff_eq_test1.plot"
   ]
  },
  {
   "cell_type": "code",
   "execution_count": 365,
   "id": "24026e3c",
   "metadata": {},
   "outputs": [
    {
     "name": "stdout",
     "output_type": "stream",
     "text": [
      "0.00498335850480826 0.017192330209630742 0.0075970685586954165\n"
     ]
    }
   ],
   "source": [
    "print(er1,er2,er3)"
   ]
  },
  {
   "cell_type": "code",
   "execution_count": 366,
   "id": "10ea2c92",
   "metadata": {
    "scrolled": true
   },
   "outputs": [
    {
     "data": {
      "image/png": "[encoded data removed]",
      "text/plain": [
       "<Figure size 432x288 with 1 Axes>"
      ]
     },
     "metadata": {
      "needs_background": "light"
     },
     "output_type": "display_data"
    }
   ],
   "source": [
    "# An example for two variable systems of differential equations\n",
    "def testy1(x,y,z):\n",
    "    return 1/y**2\n",
    "def testy2(x,y,z):\n",
    "    return np.log(z+y)\n",
    "y0=[1,1]\n",
    "fn=[testy1,testy2]\n",
    "diff_eq_test2 = diff_eq_solver([0,10],0.01,y0,fn)\n",
    "diff_eq_test2.Runge_Kutta_4()\n",
    "diff_eq_test2.plot"
   ]
  },
  {
   "cell_type": "code",
   "execution_count": 367,
   "id": "f0552070",
   "metadata": {
    "scrolled": true
   },
   "outputs": [
    {
     "data": {
      "image/png": "[encoded data removed]",
      "text/plain": [
       "<Figure size 432x288 with 1 Axes>"
      ]
     },
     "metadata": {
      "needs_background": "light"
     },
     "output_type": "display_data"
    }
   ],
   "source": [
    "diff_eq_test2.Euler_Method()\n",
    "diff_eq.plot"
   ]
  },
  {
   "cell_type": "code",
   "execution_count": 491,
   "id": "87cded88",
   "metadata": {
    "scrolled": false
   },
   "outputs": [],
   "source": [
    "# Backward Euler Method is currently implemented only for one variable differential equations. Pushing two or more variables will lead to a value error.\n",
    "# To see the type error message uncomment the next two lines and run the block.\n",
    "# diff_eq_test2.Backward_Euler_Method()\n",
    "# diff_eq_test2.plot"
   ]
  },
  {
   "cell_type": "code",
   "execution_count": 369,
   "id": "386a6781",
   "metadata": {
    "scrolled": true
   },
   "outputs": [
    {
     "name": "stdout",
     "output_type": "stream",
     "text": [
      "49124\n"
     ]
    },
    {
     "data": {
      "image/png": "[encoded data removed]",
      "text/plain": [
       "<Figure size 432x288 with 1 Axes>"
      ]
     },
     "metadata": {
      "needs_background": "light"
     },
     "output_type": "display_data"
    }
   ],
   "source": [
    "def testy(x,y):\n",
    "    return y\n",
    "y0=[1]\n",
    "fn=[testy]\n",
    "diff_eq_test3 = diff_eq_solver([0,5],0.01,y0,fn,stepsize=\"adaptive\")\n",
    "diff_eq_test3.Runge_Kutta_4(delta=0.0001)\n",
    "print(diff_eq_test3.n)\n",
    "diff_eq_test3.plot"
   ]
  },
  {
   "cell_type": "code",
   "execution_count": 370,
   "id": "2bdb0402",
   "metadata": {},
   "outputs": [
    {
     "data": {
      "text/plain": [
       "4.1225794334924894e-13"
      ]
     },
     "execution_count": 370,
     "metadata": {},
     "output_type": "execute_result"
    }
   ],
   "source": [
    "diff_eq_test3.error(true_y)"
   ]
  },
  {
   "cell_type": "markdown",
   "id": "27a60f04",
   "metadata": {},
   "source": [
    "# Problem 1"
   ]
  },
  {
   "cell_type": "code",
   "execution_count": 371,
   "id": "59a6f3c8",
   "metadata": {},
   "outputs": [],
   "source": [
    "def f1(x,y):\n",
    "    return -9*y\n",
    "\n",
    "def f2(x,y):\n",
    "    return -20*(y-x)**2+2*x"
   ]
  },
  {
   "cell_type": "code",
   "execution_count": 372,
   "id": "573403b7",
   "metadata": {},
   "outputs": [],
   "source": [
    "diff_eq_f1 = diff_eq_solver([0,1],0.001,[np.exp(1)],[f1])\n",
    "diff_eq_f2 = diff_eq_solver([0,1],0.001,[1/3],[f2])"
   ]
  },
  {
   "cell_type": "code",
   "execution_count": 373,
   "id": "dda9846d",
   "metadata": {},
   "outputs": [
    {
     "data": {
      "image/png": "[encoded data removed]",
      "text/plain": [
       "<Figure size 432x288 with 1 Axes>"
      ]
     },
     "metadata": {
      "needs_background": "light"
     },
     "output_type": "display_data"
    }
   ],
   "source": [
    "diff_eq_f1.Backward_Euler_Method()\n",
    "diff_eq_f1.plot"
   ]
  },
  {
   "cell_type": "code",
   "execution_count": 358,
   "id": "c77c2cbc",
   "metadata": {},
   "outputs": [
    {
     "data": {
      "image/png": "[encoded data removed]",
      "text/plain": [
       "<Figure size 432x288 with 1 Axes>"
      ]
     },
     "metadata": {
      "needs_background": "light"
     },
     "output_type": "display_data"
    }
   ],
   "source": [
    "diff_eq_f2.Backward_Euler_Method()\n",
    "diff_eq_f2.plot"
   ]
  },
  {
   "cell_type": "markdown",
   "id": "9a1844d4",
   "metadata": {},
   "source": [
    "# Problem 6"
   ]
  },
  {
   "cell_type": "code",
   "execution_count": 528,
   "id": "924b17e4",
   "metadata": {},
   "outputs": [],
   "source": [
    "def dxdt(t,x,v):\n",
    "    return v\n",
    "\n",
    "def dvdt(t,x,v):\n",
    "    return -10\n",
    "\n",
    "fn = [dxdt, dvdt]\n",
    "y0 = [0, 0]\n",
    "xb = 10"
   ]
  },
  {
   "cell_type": "code",
   "execution_count": 529,
   "id": "3596dbb3",
   "metadata": {},
   "outputs": [],
   "source": [
    "diff_eq_x = diff_eq_solver([0,10],0.001,y0, fn, xb = xb, constraints = \"boundary\")\n",
    "diff_eq_x.Euler_Method()"
   ]
  },
  {
   "cell_type": "code",
   "execution_count": 530,
   "id": "35898e3e",
   "metadata": {},
   "outputs": [
    {
     "data": {
      "image/png": "[encoded data removed]",
      "text/plain": [
       "<Figure size 720x360 with 1 Axes>"
      ]
     },
     "metadata": {
      "needs_background": "light"
     },
     "output_type": "display_data"
    }
   ],
   "source": [
    "# Plot for the numerical solution using Euler Method with Shooting\n",
    "f, ax = diff_eq_x.plot(\n",
    "    0,\n",
    "    title = r'Plot for $x(t)$ vs. $t$', \n",
    "    xlabel = r'$t$', \n",
    "    ylabel = r'$x(t)$')"
   ]
  },
  {
   "cell_type": "code",
   "execution_count": null,
   "id": "631b0db6",
   "metadata": {},
   "outputs": [],
   "source": [
    "def true_x(t):\n",
    "    return -5*(-10*t+t**2)\n",
    "\n",
    "ax.plot(diff_eq_x.x,np.vectorize(true_x)(diff_eq_x.x), label='true')\n",
    "ax.plot(diff_eq_x.x,diff_eq_x.candidate_y.get()[0,:], label='C1')\n",
    "ax.plot(diff_eq_x.x,diff_eq_x.candidate_y.get()[0,:], label='C2')\n",
    "ax.plot(diff_eq_x.x,diff_eq_x.candidate_y.get()[0,:], label='C3')\n",
    "ax.plot(diff_eq_x.x,diff_eq_x.candidate_y.get()[0,:], label='C4')\n",
    "ax.plot(diff_eq_x.x,diff_eq_x.candidate_y.get()[0,:], label='C5')"
   ]
  },
  {
   "cell_type": "code",
   "execution_count": null,
   "id": "93573d2d",
   "metadata": {},
   "outputs": [],
   "source": [
    "# This figure contains numerical solution, true solution\n",
    "f.figure"
   ]
  },
  {
   "cell_type": "code",
   "execution_count": null,
   "id": "cb3d788a",
   "metadata": {},
   "outputs": [],
   "source": []
  }
 ],
 "metadata": {
  "kernelspec": {
   "display_name": "Python 3 (ipykernel)",
   "language": "python",
   "name": "python3"
  },
  "language_info": {
   "codemirror_mode": {
    "name": "ipython",
    "version": 3
   },
   "file_extension": ".py",
   "mimetype": "text/x-python",
   "name": "python",
   "nbconvert_exporter": "python",
   "pygments_lexer": "ipython3",
   "version": "3.9.7"
  }
 },
 "nbformat": 4,
 "nbformat_minor": 5
}
