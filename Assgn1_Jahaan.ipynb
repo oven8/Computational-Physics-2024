{
  "nbformat": 4,
  "nbformat_minor": 0,
  "metadata": {
    "colab": {
      "provenance": [],
      "collapsed_sections": [
        "HB1R4r7BqSXU",
        "auRZmrw7q5qY",
        "bPifYy4LClmr",
        "HWXNUvwhKG1k",
        "a5ehSruuLOs_"
      ],
      "include_colab_link": true
    },
    "kernelspec": {
      "name": "python3",
      "display_name": "Python 3"
    },
    "language_info": {
      "name": "python"
    }
  },
  "cells": [
    {
      "cell_type": "markdown",
      "metadata": {
        "id": "view-in-github",
        "colab_type": "text"
      },
      "source": [
        "<a href=\"https://colab.research.google.com/github/oven8/Computational-Physics-2024/blob/main/Assgn1_Jahaan.ipynb\" target=\"_parent\"><img src=\"https://colab.research.google.com/assets/colab-badge.svg\" alt=\"Open In Colab\"/></a>"
      ]
    },
    {
      "cell_type": "code",
      "execution_count": 1,
      "metadata": {
        "id": "zzSsZ_u46oub"
      },
      "outputs": [],
      "source": [
        "import numpy as np\n",
        "from scipy.linalg import lu\n",
        "import time"
      ]
    },
    {
      "cell_type": "markdown",
      "source": [
        "# Problem 11\n"
      ],
      "metadata": {
        "id": "HB1R4r7BqSXU"
      }
    },
    {
      "cell_type": "code",
      "source": [
        "A1 = np.array([[3,-1,1], [3,6,2],[3,3,7]]).astype(float)\n",
        "b1 = np.array([1,0,4]).astype(float)\n",
        "A2 = np.array([[10,-1,0], [-1,10,-2],[0,-2,10]]).astype(float)\n",
        "b2 = np.array([9,7,6]).astype(float)\n",
        "A3 = np.array([[10,5,0,0], [5,10,-4,0],[0,-2,8,-1],[0,0,-1,5]]).astype(float)\n",
        "b3 = np.array([6,25,-11,-11]).astype(float)\n",
        "A4 = np.array([[4,1,1,0,1],[-1,-3,1,1,0],[2,1,5,-1,-1],[-1,-1,-1,4,0],[0,2,-1,1,4]]).astype(float)\n",
        "b4 = np.array([6,6,6,6,6]).astype(float)\n",
        "x1 = np.linalg.solve(A1, b1)\n",
        "x2 = np.linalg.solve(A2, b2)\n",
        "x3 = np.linalg.solve(A3, b3)\n",
        "x4 = np.linalg.solve(A4, b4)\n",
        "\n",
        "print(\"Solution for the first system:\",x1)\n",
        "print(\"Solution for the second system:\",x2)\n",
        "print(\"Solution for the third system:\",x3)\n",
        "print(\"Solution for the fourth system:\",x4)"
      ],
      "metadata": {
        "id": "G6H3648f55ZF",
        "colab": {
          "base_uri": "https://localhost:8080/"
        },
        "outputId": "c6c74bc0-914e-405d-cc48-a87539e5afaf"
      },
      "execution_count": null,
      "outputs": [
        {
          "output_type": "stream",
          "name": "stdout",
          "text": [
            "Solution for the first system: [ 0.03508772 -0.23684211  0.65789474]\n",
            "Solution for the second system: [0.99578947 0.95789474 0.79157895]\n",
            "Solution for the third system: [-0.57623762  2.35247525 -1.08910891 -2.41782178]\n",
            "Solution for the fourth system: [ 0.78663239 -1.00257069  1.86632391  1.9125964   1.98971722]\n"
          ]
        }
      ]
    },
    {
      "cell_type": "markdown",
      "source": [
        "# Problem 16"
      ],
      "metadata": {
        "id": "bG2nxVrsXIyt"
      }
    },
    {
      "cell_type": "code",
      "source": [
        "A=np.array([[0.2,0.1,1,1,0],[0.1,4,-1,1,-1],[1,-1,60,0,-2],[1,1,0,8,4],[0,-1,-2,4,700]]).astype(float)\n",
        "b=np.array([1,2,3,4,5]).astype(float)\n",
        "x0=np.array([0,0,0,0,0]).astype(float)\n",
        "xt = np.array([7.859713071, 0.422926408, -0.073592239, -0.540643016, 0.010626163])"
      ],
      "metadata": {
        "id": "eGgriRg4bGVp"
      },
      "execution_count": null,
      "outputs": []
    },
    {
      "cell_type": "code",
      "source": [
        "# Jacobi method\n",
        "def gauss_jacobi(A, b, x0, tol=0.01, max_iter=100):\n",
        "    n = len(A)\n",
        "    U = -np.triu(A,k=1)\n",
        "    L = -np.tril(A,k=-1)\n",
        "    D = A + U + L\n",
        "    T = np.matmul(np.linalg.inv(D),np.add(L,U))\n",
        "    C = np.matmul(np.linalg.inv(D),b)\n",
        "    x = np.copy(x0)\n",
        "    for k in range(max_iter):\n",
        "        x_old = np.copy(x)\n",
        "        x = np.add(np.matmul(T,x),C)\n",
        "        if np.linalg.norm(x - xt) < tol:\n",
        "            return x,k+1\n",
        "    raise ValueError(\"Gauss-Jacobi method did not converge\")\n",
        "\n",
        "solution = gauss_jacobi(A, b, x0)\n",
        "print(\"Solution:\", solution[0])\n",
        "print(\"Number of iterations:\", solution[1])"
      ],
      "metadata": {
        "colab": {
          "base_uri": "https://localhost:8080/"
        },
        "id": "zUOIjBzpXPDC",
        "outputId": "beca1615-9fcc-4de1-86d2-0628c167976a"
      },
      "execution_count": null,
      "outputs": [
        {
          "output_type": "stream",
          "name": "stdout",
          "text": [
            "Solution: [ 7.86798447  0.4239069  -0.0731638  -0.5370925   0.01063184]\n",
            "Iterations: 39\n"
          ]
        }
      ]
    },
    {
      "cell_type": "code",
      "source": [
        "# Gauss-Seidel method\n",
        "def gauss_siedel(A, b, x0, tol=0.01, max_iter=1000):\n",
        "    n = len(A)\n",
        "    U = -np.triu(A,k=1)\n",
        "    L = -np.tril(A,k=-1)\n",
        "    D = A + U + L\n",
        "    T = np.matmul(np.linalg.inv(np.add(D,-L)),U)\n",
        "    C = np.matmul(np.linalg.inv(np.add(D,-L)),b)\n",
        "    x = np.copy(x0)\n",
        "    for k in range(max_iter):\n",
        "        x_old = np.copy(x)\n",
        "        x = np.add(np.matmul(T,x),C)\n",
        "        if np.linalg.norm(x - xt) < tol:\n",
        "            return x,k+1\n",
        "    raise ValueError(\"Gauss-Seidel method did not converge\")\n",
        "\n",
        "solution = gauss_siedel(A, b, x0)\n",
        "print(\"Solution:\", solution[0])\n",
        "print(\"Number of iterations:\", solution[1])"
      ],
      "metadata": {
        "colab": {
          "base_uri": "https://localhost:8080/"
        },
        "id": "02cSW1avbtNQ",
        "outputId": "74cdb4a3-b4ad-48dc-d04d-c9bd4669fd0d"
      },
      "execution_count": null,
      "outputs": [
        {
          "output_type": "stream",
          "name": "stdout",
          "text": [
            "Solution: [ 7.85091478  0.42280131 -0.07344797 -0.53952326  0.01062   ]\n",
            "Iterations: 18\n"
          ]
        }
      ]
    },
    {
      "cell_type": "code",
      "source": [
        "# Relaxation method\n",
        "def relaxation_method(A, b, x0, tol=0.01, max_iter=1000, omega=1.25):\n",
        "    n = len(b)\n",
        "    x = np.copy(x0)\n",
        "    for k in range(max_iter):\n",
        "        x_old = np.copy(x)\n",
        "        for i in range(n):\n",
        "            sum = 0\n",
        "            for j in range(n):\n",
        "                if j != i:\n",
        "                    sum += A[i][j] * x[j]\n",
        "            x[i] = (1 - omega) * x_old[i] + (omega / A[i][i]) * (b[i] - sum)\n",
        "        r = np.multiply(np.diag(A),np.add(x,-x_old))\n",
        "        if np.linalg.norm(x - xt) < tol:\n",
        "            return x,k+1\n",
        "    raise ValueError(\"Relaxation method did not converge\")\n",
        "\n",
        "solution = relaxation_method(A, b, x0)\n",
        "print(\"Solution:\", solution[0])\n",
        "print(\"Number of iterations:\", solution[1])"
      ],
      "metadata": {
        "colab": {
          "base_uri": "https://localhost:8080/"
        },
        "id": "VuIVmi0XdLvG",
        "outputId": "dbaf6f09-0b21-4d9a-f891-d6935a803286"
      },
      "execution_count": null,
      "outputs": [
        {
          "output_type": "stream",
          "name": "stdout",
          "text": [
            "Solution: [ 7.85152701  0.42277371 -0.07348303 -0.53978369  0.01062286]\n",
            "Iterations: 7\n"
          ]
        }
      ]
    },
    {
      "cell_type": "code",
      "source": [
        "# Conjugate Gradient method\n",
        "def conjugate_gradient(A, b, x0, tol=0.01, max_iter=1000):\n",
        "    r = b - np.dot(A, x0)\n",
        "    p = np.copy(r)\n",
        "    x = np.copy(x0)\n",
        "    rsold = np.dot(r, r)\n",
        "    for k in range(max_iter):\n",
        "        Ap = np.dot(A, p)\n",
        "        alpha = rsold / np.dot(p, Ap)\n",
        "        x = x + alpha * p\n",
        "        if np.linalg.norm(x - xt) < tol:\n",
        "            return x,k+1\n",
        "        r = r - alpha * Ap\n",
        "        rsnew = np.dot(r, r)\n",
        "        beta = (rsnew / rsold)\n",
        "        p = r + beta * p\n",
        "        rsold = np.copy(rsnew)\n",
        "    raise ValueError(\"Relaxation method did not converge\")\n",
        "\n",
        "solution = conjugate_gradient(A, b, x0)\n",
        "print(\"Solution:\", solution[0])\n",
        "print(\"Number of iterations:\", solution[1])\n"
      ],
      "metadata": {
        "colab": {
          "base_uri": "https://localhost:8080/"
        },
        "id": "gAeX1hzRen3D",
        "outputId": "23adafb9-493f-4075-b3a5-b845023c44b4"
      },
      "execution_count": null,
      "outputs": [
        {
          "output_type": "stream",
          "name": "stdout",
          "text": [
            "Solution: [ 7.85971308  0.42292641 -0.07359224 -0.54064302  0.01062616]\n",
            "Number of iterations: 5\n"
          ]
        }
      ]
    },
    {
      "cell_type": "markdown",
      "source": [
        "# Problem 17"
      ],
      "metadata": {
        "id": "bPifYy4LClmr"
      }
    },
    {
      "cell_type": "code",
      "source": [
        "def qr_eigenvalues(A, max_iter=100, tol=1e-6):\n",
        "    n = A.shape[0]\n",
        "    V = np.eye(n)\n",
        "\n",
        "    for _ in range(max_iter):\n",
        "        Q, R = np.linalg.qr(A)\n",
        "        A = np.dot(R, Q)\n",
        "        V = np.dot(V, Q)\n",
        "        if np.abs(A.diagonal(-1)).max() < tol:\n",
        "            break\n",
        "\n",
        "    eigenvalues = A.diagonal()\n",
        "    return eigenvalues, V\n",
        "\n",
        "\n",
        "A=np.array([[5,-2],[-2,8]])\n",
        "eigenvalues, eigenvectors = qr_eigenvalues(A)\n",
        "print(\"Eigenvalues using QR decomposition:\",eigenvalues)\n",
        "eigenvalues1, eigenvectors1=np.linalg.eigh(A)\n",
        "print(\"Eigenvalues using numpy.linalg.eigh:\",eigenvalues1)"
      ],
      "metadata": {
        "colab": {
          "base_uri": "https://localhost:8080/"
        },
        "id": "ifO5PK2UCrRB",
        "outputId": "81ee43fc-85f5-4359-9f11-1e1a52f6083c"
      },
      "execution_count": null,
      "outputs": [
        {
          "output_type": "stream",
          "name": "stdout",
          "text": [
            "Eigenvalues using QR decomposition: [9. 4.]\n",
            "Eigenvalues using numpy.linalg.eigh: [4. 9.]\n"
          ]
        }
      ]
    },
    {
      "cell_type": "markdown",
      "source": [
        "# Problem 18"
      ],
      "metadata": {
        "id": "HWXNUvwhKG1k"
      }
    },
    {
      "cell_type": "code",
      "source": [
        "import numpy as np\n",
        "\n",
        "def power_method(A, max_iter=1000, tol=0.01):\n",
        "    n = A.shape[0]\n",
        "    x = np.random.rand(n)\n",
        "    x /= np.linalg.norm(x)\n",
        "    ev0 = 0\n",
        "\n",
        "    for k in range(max_iter):\n",
        "        x_new = np.matmul(A, x)\n",
        "        ev = np.dot(x_new, x)\n",
        "        x_new /= np.linalg.norm(x_new)\n",
        "\n",
        "        if abs(ev0 - ev)/ev < tol:\n",
        "            break\n",
        "\n",
        "        x = x_new\n",
        "        ev0 = ev\n",
        "\n",
        "    return ev\n",
        "\n",
        "# Example matrix\n",
        "A = np.array([[2,-1,0],[-1,2,-1],[0,-1,2]])\n",
        "\n",
        "# Apply Power Method to find dominant eigenvalue and eigenvector\n",
        "eigenvalue = power_method(A)\n",
        "\n",
        "print(\"Dominant eigenvalue:\", eigenvalue)\n"
      ],
      "metadata": {
        "colab": {
          "base_uri": "https://localhost:8080/"
        },
        "id": "KbRmMwatC3MV",
        "outputId": "9ddb97cb-7ffe-468c-f18a-39c2b053823c"
      },
      "execution_count": null,
      "outputs": [
        {
          "output_type": "stream",
          "name": "stdout",
          "text": [
            "Dominant eigenvalue: 3.397359402160364\n"
          ]
        }
      ]
    },
    {
      "cell_type": "markdown",
      "source": [
        "# Problem 19"
      ],
      "metadata": {
        "id": "a5ehSruuLOs_"
      }
    },
    {
      "cell_type": "code",
      "source": [
        "def sigma(sv, m, n):\n",
        "    Sigma = np.zeros((m, n))\n",
        "\n",
        "    min_dim = min(m, n)\n",
        "    Sigma[:min_dim, :min_dim] = np.diag(sv)\n",
        "\n",
        "    return Sigma"
      ],
      "metadata": {
        "id": "wseDI1H4QO3j"
      },
      "execution_count": 2,
      "outputs": []
    },
    {
      "cell_type": "code",
      "source": [
        "st = time.time()\n",
        "A1=np.array([[2,1],[1,0]])\n",
        "U1,S1,V1=np.linalg.svd(A1)\n",
        "\n",
        "Sigma1 = sigma(S1,U1.shape[1],V1.shape[1])\n",
        "\n",
        "D1=np.dot(np.dot(U1,Sigma1),V1)\n",
        "\n",
        "et = time.time()\n",
        "print(\"Matrix(U):\",U1)\n",
        "\n",
        "print(\"Matrix(S):\",Sigma1)\n",
        "\n",
        "print(\"Matrix(V):\",V1)\n",
        "\n",
        "print(\"Matrix Product(USV):\",D1)\n",
        "\n",
        "print(\"Time for computation\",et-st)"
      ],
      "metadata": {
        "colab": {
          "base_uri": "https://localhost:8080/"
        },
        "id": "LdwFbliKLRVf",
        "outputId": "d8a61fc6-0294-4f1b-c4e3-678070c7a873"
      },
      "execution_count": 6,
      "outputs": [
        {
          "output_type": "stream",
          "name": "stdout",
          "text": [
            "Matrix(U): [[-0.92387953 -0.38268343]\n",
            " [-0.38268343  0.92387953]]\n",
            "Matrix(S): [[2.41421356 0.        ]\n",
            " [0.         0.41421356]]\n",
            "Matrix(V): [[-0.92387953 -0.38268343]\n",
            " [ 0.38268343 -0.92387953]]\n",
            "Matrix Product(USV): [[ 2.00000000e+00  1.00000000e+00]\n",
            " [ 1.00000000e+00 -3.81016887e-17]]\n",
            "Time for computation 0.0006134510040283203\n"
          ]
        }
      ]
    },
    {
      "cell_type": "code",
      "source": [
        "st = time.time()\n",
        "A2=np.array([[2,1],[1,0],[0,1]])\n",
        "U2,S2,V2=np.linalg.svd(A2)\n",
        "\n",
        "Sigma2 = sigma(S2,U2.shape[1],V2.shape[1])\n",
        "\n",
        "D2=np.dot(np.dot(U2,Sigma2),V2)\n",
        "\n",
        "et = time.time()\n",
        "print(\"Matrix(U):\",U2)\n",
        "\n",
        "print(\"Matrix(S):\",Sigma2)\n",
        "\n",
        "print(\"Matrix(V):\",V2)\n",
        "\n",
        "print(\"Matrix Product(USV):\",D2)\n",
        "\n",
        "print(\"Time for computation\",et-st)"
      ],
      "metadata": {
        "colab": {
          "base_uri": "https://localhost:8080/"
        },
        "id": "5m4SCA85MqV4",
        "outputId": "4bff7029-7837-40aa-f416-d31e251bc942"
      },
      "execution_count": 8,
      "outputs": [
        {
          "output_type": "stream",
          "name": "stdout",
          "text": [
            "Matrix(U): [[-9.12870929e-01  4.80183453e-17 -4.08248290e-01]\n",
            " [-3.65148372e-01 -4.47213595e-01  8.16496581e-01]\n",
            " [-1.82574186e-01  8.94427191e-01  4.08248290e-01]]\n",
            "Matrix(S): [[2.44948974 0.        ]\n",
            " [0.         1.        ]\n",
            " [0.         0.        ]]\n",
            "Matrix(V): [[-0.89442719 -0.4472136 ]\n",
            " [-0.4472136   0.89442719]]\n",
            "Matrix Product(USV): [[ 2.00000000e+00  1.00000000e+00]\n",
            " [ 1.00000000e+00 -6.81060746e-17]\n",
            " [-1.23617226e-16  1.00000000e+00]]\n",
            "Time for computation 0.0006489753723144531\n"
          ]
        }
      ]
    },
    {
      "cell_type": "code",
      "source": [
        "st = time.time()\n",
        "A3=np.array([[2,1],[-1,1],[1,1],[2,-1]])\n",
        "U3,S3,V3=np.linalg.svd(A3)\n",
        "\n",
        "Sigma3 = sigma(S3,U3.shape[1],V3.shape[1])\n",
        "\n",
        "D3=np.dot(np.dot(U3,Sigma3),V3)\n",
        "\n",
        "et = time.time()\n",
        "print(\"Matrix(U):\",U3)\n",
        "\n",
        "print(\"Matrix(S):\",Sigma3)\n",
        "\n",
        "print(\"Matrix(V):\",V3)\n",
        "\n",
        "print(\"Matrix Product(USV):\",D3)\n",
        "\n",
        "print(\"Time for computation\",et-st)"
      ],
      "metadata": {
        "colab": {
          "base_uri": "https://localhost:8080/"
        },
        "id": "FlE-vsizOyM5",
        "outputId": "c0ef277c-ba52-4fb3-e592-6196f368865b"
      },
      "execution_count": 9,
      "outputs": [
        {
          "output_type": "stream",
          "name": "stdout",
          "text": [
            "Matrix(U): [[-0.63245553 -0.5        -0.52229321 -0.27786652]\n",
            " [ 0.31622777 -0.5        -0.30196857  0.74753928]\n",
            " [-0.31622777 -0.5         0.79704714  0.12130893]\n",
            " [-0.63245553  0.5        -0.02721464  0.59098169]]\n",
            "Matrix(S): [[3.16227766 0.        ]\n",
            " [0.         2.        ]\n",
            " [0.         0.        ]\n",
            " [0.         0.        ]]\n",
            "Matrix(V): [[-1. -0.]\n",
            " [-0. -1.]]\n",
            "Matrix Product(USV): [[ 2.  1.]\n",
            " [-1.  1.]\n",
            " [ 1.  1.]\n",
            " [ 2. -1.]]\n",
            "Time for computation 0.0007576942443847656\n"
          ]
        }
      ]
    },
    {
      "cell_type": "code",
      "source": [
        "st = time.time()\n",
        "A4=np.array([[1,1,0],[-1,0,1],[0,1,-1],[1,1,-1]])\n",
        "U4,S4,V4=np.linalg.svd(A4)\n",
        "\n",
        "Sigma4 = sigma(S4,U4.shape[1],V4.shape[1])\n",
        "\n",
        "D4=np.dot(np.dot(U4,Sigma4),V4)\n",
        "\n",
        "et = time.time()\n",
        "print(\"Matrix(U):\",U4)\n",
        "\n",
        "print(\"Matrix(S):\",Sigma4)\n",
        "\n",
        "print(\"Matrix(V):\",V4)\n",
        "\n",
        "print(\"Matrix Product(USV):\",D4)\n",
        "\n",
        "print(\"Time for computation\",et-st)"
      ],
      "metadata": {
        "colab": {
          "base_uri": "https://localhost:8080/"
        },
        "id": "kTwsfQAlTgs5",
        "outputId": "395e8ebf-f5f8-4f40-931d-88f2eaf5ce66"
      },
      "execution_count": 10,
      "outputs": [
        {
          "output_type": "stream",
          "name": "stdout",
          "text": [
            "Matrix(U): [[-4.36435780e-01  7.07106781e-01  4.08248290e-01 -3.77964473e-01]\n",
            " [ 4.36435780e-01  7.07106781e-01 -4.08248290e-01  3.77964473e-01]\n",
            " [-4.36435780e-01  3.33066907e-16 -8.16496581e-01 -3.77964473e-01]\n",
            " [-6.54653671e-01  3.33066907e-16 -5.55111512e-17  7.55928946e-01]]\n",
            "Matrix(S): [[2.64575131 0.         0.        ]\n",
            " [0.         1.         0.        ]\n",
            " [0.         0.         1.        ]\n",
            " [0.         0.         0.        ]]\n",
            "Matrix(V): [[-0.57735027 -0.57735027  0.57735027]\n",
            " [ 0.          0.70710678  0.70710678]\n",
            " [ 0.81649658 -0.40824829  0.40824829]]\n",
            "Matrix Product(USV): [[ 1.00000000e+00  1.00000000e+00  2.52368982e-17]\n",
            " [-1.00000000e+00  1.27610516e-17  1.00000000e+00]\n",
            " [-8.05746207e-17  1.00000000e+00 -1.00000000e+00]\n",
            " [ 1.00000000e+00  1.00000000e+00 -1.00000000e+00]]\n",
            "Time for computation 0.0009691715240478516\n"
          ]
        }
      ]
    },
    {
      "cell_type": "code",
      "source": [
        "st = time.time()\n",
        "A5=np.array([[0,1,1],[0,1,0],[1,1,0],[0,1,0],[1,0,1]])\n",
        "U5,S5,V5=np.linalg.svd(A5)\n",
        "\n",
        "Sigma5 = sigma(S5,U5.shape[1],V5.shape[1])\n",
        "\n",
        "D5=np.dot(np.dot(U5,Sigma5),V5)\n",
        "\n",
        "et = time.time()\n",
        "print(\"Matrix(U):\",U5)\n",
        "\n",
        "print(\"Matrix(S):\",Sigma5)\n",
        "\n",
        "print(\"Matrix(V):\",V5)\n",
        "\n",
        "print(\"Matrix Product(USV):\",D5)\n",
        "\n",
        "print(\"Time for computation\",et-st)"
      ],
      "metadata": {
        "colab": {
          "base_uri": "https://localhost:8080/"
        },
        "id": "v3zWBqooUJOU",
        "outputId": "e279d708-5951-49e6-d1f1-6b8669252ffb"
      },
      "execution_count": 11,
      "outputs": [
        {
          "output_type": "stream",
          "name": "stdout",
          "text": [
            "Matrix(U): [[-5.47722558e-01  3.50476164e-16  7.07106781e-01 -1.32058463e-01\n",
            "  -4.27271064e-01]\n",
            " [-3.65148372e-01  4.08248290e-01 -1.48383873e-16 -5.43516408e-01\n",
            "   6.36073827e-01]\n",
            " [-5.47722558e-01 -7.02388902e-17 -7.07106781e-01 -1.32058463e-01\n",
            "  -4.27271064e-01]\n",
            " [-3.65148372e-01  4.08248290e-01 -1.71841615e-16  8.07633333e-01\n",
            "   2.18468301e-01]\n",
            " [-3.65148372e-01 -8.16496581e-01  2.43277252e-16  1.32058463e-01\n",
            "   4.27271064e-01]]\n",
            "Matrix(S): [[2.23606798 0.         0.        ]\n",
            " [0.         1.41421356 0.        ]\n",
            " [0.         0.         1.        ]\n",
            " [0.         0.         0.        ]\n",
            " [0.         0.         0.        ]]\n",
            "Matrix(V): [[-4.08248290e-01 -8.16496581e-01 -4.08248290e-01]\n",
            " [-5.77350269e-01  5.77350269e-01 -5.77350269e-01]\n",
            " [-7.07106781e-01 -3.88578059e-16  7.07106781e-01]]\n",
            "Matrix Product(USV): [[-1.88904597e-16  1.00000000e+00  1.00000000e+00]\n",
            " [-7.58392910e-17  1.00000000e+00 -7.62142974e-17]\n",
            " [ 1.00000000e+00  1.00000000e+00 -3.49858899e-16]\n",
            " [-1.23350918e-16  1.00000000e+00 -1.56900183e-16]\n",
            " [ 1.00000000e+00  2.27936865e-16  1.00000000e+00]]\n",
            "Time for computation 0.001667022705078125\n"
          ]
        }
      ]
    }
  ]
}