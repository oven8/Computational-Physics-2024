{
  "nbformat": 4,
  "nbformat_minor": 0,
  "metadata": {
    "colab": {
      "provenance": [],
      "authorship_tag": "ABX9TyNvU289KrzPcGE6KFBRdymA",
      "include_colab_link": true
    },
    "kernelspec": {
      "name": "python3",
      "display_name": "Python 3"
    },
    "language_info": {
      "name": "python"
    }
  },
  "cells": [
    {
      "cell_type": "markdown",
      "metadata": {
        "id": "view-in-github",
        "colab_type": "text"
      },
      "source": [
        "<a href=\"https://colab.research.google.com/github/oven8/Computational-Physics-2024/blob/main/Assignment_1_Tagtshen_.ipynb\" target=\"_parent\"><img src=\"https://colab.research.google.com/assets/colab-badge.svg\" alt=\"Open In Colab\"/></a>"
      ]
    },
    {
      "cell_type": "markdown",
      "source": [
        "Given below is the  python code to solve for dominant eigen vlaue and eigen vector using Power method."
      ],
      "metadata": {
        "id": "wBTghCf_4NL4"
      }
    },
    {
      "cell_type": "code",
      "source": [
        "import numpy as np\n",
        "def power_method(A, v0, accuracy):\n",
        "    v = v0 / np.linalg.norm(v0)\n",
        "    eigenvalue = 0.0\n",
        "    eigenvector = np.zeros_like(v)\n",
        "    while True:\n",
        "        Av = np.dot(A, v)\n",
        "        new_eigenvalue = np.dot(v, Av)\n",
        "        new_v = Av / np.linalg.norm(Av)\n",
        "        eigenvalue_diff = np.abs(new_eigenvalue - eigenvalue)\n",
        "        if eigenvalue_diff < accuracy:\n",
        "            eigenvalue = new_eigenvalue\n",
        "            eigenvector = new_v\n",
        "            break\n",
        "        eigenvalue = new_eigenvalue\n",
        "        v = new_v\n",
        "    return eigenvalue, eigenvector\n",
        "A = np.array([\n",
        "    [2, -1, 0],\n",
        "    [-1, 2, -1],\n",
        "    [0, -1, 2]\n",
        "])\n",
        "v0 = np.array([1, 1, 1])\n",
        "accuracy = 1e-6\n",
        "eigenvalue, eigenvector = power_method(A, v0, accuracy)\n",
        "print(\"Dominant Eigenvalue:\", eigenvalue)\n",
        "print(\"Corresponding Eigenvector:\", eigenvector)"
      ],
      "metadata": {
        "colab": {
          "base_uri": "https://localhost:8080/"
        },
        "id": "a2CufaIvBbSY",
        "outputId": "7ad99edd-d0cf-4232-b818-fb49aff2dd82"
      },
      "execution_count": null,
      "outputs": [
        {
          "output_type": "stream",
          "name": "stdout",
          "text": [
            "Dominant Eigenvalue: 3.4142135605326267\n",
            "Corresponding Eigenvector: [ 0.50000219 -0.70710369  0.50000219]\n"
          ]
        }
      ]
    },
    {
      "cell_type": "markdown",
      "source": [
        "linear equations"
      ],
      "metadata": {
        "id": "k09Ixbx9JcCe"
      }
    },
    {
      "cell_type": "code",
      "source": [
        "import numpy as np\n",
        "\n",
        "# Define the matrix A and vector Y\n",
        "A = np.array([[4, 1, 1,1,1], [-1, -3, 1,1,0], [2,1,5, -1,-1],[-1,-1,-1,4,0],[0,2,-1,1,4]])\n",
        "B = np.array([6, 6,6,6,6])\n",
        "# Solve the system of linear equations\n",
        "X = np.linalg.solve(A, B)\n",
        "# Print the solution\n",
        "print(\"Solution (x, y, z):\", X)"
      ],
      "metadata": {
        "id": "kJBRs9bwJhR-"
      },
      "execution_count": null,
      "outputs": []
    },
    {
      "cell_type": "markdown",
      "source": [
        "QR Decomposition\n"
      ],
      "metadata": {
        "id": "XAppy75yJ-Jb"
      }
    },
    {
      "cell_type": "code",
      "source": [
        "def qr_eigenvalues(A, max_iter=100, tol=1e-6):\n",
        "    n = A.shape[0]\n",
        "    V = np.eye(n)\n",
        "\n",
        "    for _ in range(max_iter):\n",
        "        Q, R = np.linalg.qr(A)\n",
        "        A = np.dot(R, Q)\n",
        "        V = np.dot(V, Q)\n",
        "        if np.abs(A.diagonal(-1)).max() < tol:\n",
        "            break\n",
        "\n",
        "    eigenvalues = A.diagonal()\n",
        "    return eigenvalues, V\n",
        "\n",
        "# Example matrix\n",
        "A=np.array([[5,-2],[-2,5]])\n",
        "\n",
        "# Calculate eigenvalues using QR decomposition\n",
        "eigenvalues, eigenvectors= qr_eigenvalues(A)\n",
        "print(\"Eigenvalues using QR decomposition:\")\n",
        "print(eigenvalues)\n",
        "print(eigenvectors)\n",
        "# Calculate eigenvalues using numpy.linalg.eigh\n",
        "eigenvalues1, eigenvectors1=np.linalg.eigh(A)\n",
        "\n",
        "print(\"Eigenvalues using numpy.linalg.eigh:\")\n",
        "print(eigenvalues1)def qr_eigenvalues(A, max_iter=100, tol=1e-6):\n",
        "    n = A.shape[0]\n",
        "    V = np.eye(n)\n",
        "\n",
        "    for _ in range(max_iter):\n",
        "        Q, R = np.linalg.qr(A)\n",
        "        A = np.dot(R, Q)\n",
        "        V = np.dot(V, Q)\n",
        "        if np.abs(A.diagonal(-1)).max() < tol:\n",
        "            break\n",
        "\n",
        "    eigenvalues = A.diagonal()\n",
        "    return eigenvalues, V\n",
        "\n",
        "# Example matrix\n",
        "A=np.array([[5,-2],[-2,5]])\n",
        "\n",
        "# Calculate eigenvalues using QR decomposition\n",
        "eigenvalues, eigenvectors= qr_eigenvalues(A)\n",
        "print(\"Eigenvalues using QR decomposition:\")\n",
        "print(eigenvalues)\n",
        "print(eigenvectors)\n",
        "# Calculate eigenvalues using numpy.linalg.eigh\n",
        "eigenvalues1, eigenvectors1=np.linalg.eigh(A)\n",
        "\n",
        "print(\"Eigenvalues using numpy.linalg.eigh:\")\n",
        "print(eigenvalues1)"
      ],
      "metadata": {
        "id": "-aBfMtzbKPe1"
      },
      "execution_count": null,
      "outputs": []
    },
    {
      "cell_type": "markdown",
      "source": [
        "SVD\n"
      ],
      "metadata": {
        "id": "YHW9WFHyKVVC"
      }
    },
    {
      "cell_type": "code",
      "source": [
        "import numpy as np# we use this package to do SVD\n",
        "import time # we use this to get our time of computation\n",
        "# here we will define our n x m matrix\n",
        "A = np.array([\n",
        "    [0,1,1],\n",
        "    [0,1,0],\n",
        "    [1,1,0],\n",
        "    [0,1,0],\n",
        "    [1,0,1]\n",
        "])\n",
        "\n",
        "\n",
        "# Measure the time taken for SVD computation\n",
        "start_time = time.time()\n",
        "\n",
        "# Perform Singular Value Decomposition (SVD)\n",
        "U, S, V_Transpose = np.linalg.svd(A)\n",
        "\n",
        "end_time = time.time()\n",
        "svd_time = end_time - start_time\n",
        "S_matrix = np.zeros_like(A, dtype=float)\n",
        "S_matrix[:min(A.shape), :min(A.shape)] = np.diag(S)\n",
        "C=np.dot(U,S_matrix)\n",
        "D=np.dot(C,V_Transpose)\n",
        "# m U: Left singular matrix\n",
        "# S: Singular matrix\n",
        "# V_Transpose: Transpose of right singular matrix\n",
        "\n",
        "print(\"Original Matrix A:\")\n",
        "print(A)\n",
        "print(\"Matrix U :\")\n",
        "print(U)\n",
        "print(\" Matrix S :\")\n",
        "print(S_matrix)\n",
        "print(\"Matrix V^T :\")\n",
        "print(V_Transpose)\n",
        "print(\"\\nTime taken for SVD computation: {:.8f} seconds\".format(svd_time))\n",
        "print(\"\\nVerification of our Decomposition: given below represents multiplication of matrix USV^T:\")\n",
        "print(D)"
      ],
      "metadata": {
        "id": "wS70djC4KpWD"
      },
      "execution_count": null,
      "outputs": []
    },
    {
      "cell_type": "markdown",
      "source": [
        "GIVEN Below are the iteration methods used"
      ],
      "metadata": {
        "id": "CIl2DEPXK3az"
      }
    },
    {
      "cell_type": "code",
      "source": [
        "# Jacobi method\n",
        "def gauss_jacobi(A, b, x0, tol=0.01, max_iter=100):\n",
        "    n = len(A)\n",
        "    U = -np.triu(A,k=1)\n",
        "    L = -np.tril(A,k=-1)\n",
        "    D = A + U + L\n",
        "    T = np.matmul(np.linalg.inv(D),np.add(L,U))\n",
        "    C = np.matmul(np.linalg.inv(D),b)\n",
        "    x = np.copy(x0)\n",
        "    for k in range(max_iter):\n",
        "        x_old = np.copy(x)\n",
        "        x = np.add(np.matmul(T,x),C)\n",
        "        if np.linalg.norm(x - xt) < tol:\n",
        "            return x,k+1\n",
        "    raise ValueError(\"Gauss-Jacobi method did not converge\")\n",
        "\n",
        "solution = gauss_jacobi(A, b, x0)\n",
        "print(\"Solution:\", solution[0])\n",
        "print(\"Number of iterations:\", solution[1])# Jacobi method\n"
      ],
      "metadata": {
        "id": "RbRXYNnwK_of"
      },
      "execution_count": null,
      "outputs": []
    },
    {
      "cell_type": "markdown",
      "source": [],
      "metadata": {
        "id": "Bg7hA4CuLHko"
      }
    },
    {
      "cell_type": "markdown",
      "source": [
        "Gauss_seidel Method\n"
      ],
      "metadata": {
        "id": "49f7gPQ6LNp4"
      }
    },
    {
      "cell_type": "code",
      "source": [
        " Gauss-Seidel method\n",
        "def gauss_siedel(A, b, x0, tol=0.01, max_iter=1000):\n",
        "    n = len(A)\n",
        "    U = -np.triu(A,k=1)\n",
        "    L = -np.tril(A,k=-1)\n",
        "    D = A + U + L\n",
        "    T = np.matmul(np.linalg.inv(np.add(D,-L)),U)\n",
        "    C = np.matmul(np.linalg.inv(np.add(D,-L)),b)\n",
        "    x = np.copy(x0)\n",
        "    for k in range(max_iter):\n",
        "        x_old = np.copy(x)\n",
        "        x = np.add(np.matmul(T,x),C)\n",
        "        if np.linalg.norm(x - xt) < tol:\n",
        "            return x,k+1\n",
        "    raise ValueError(\"Gauss-Seidel method did not converge\")\n",
        "\n",
        "solution = gauss_siedel(A, b, x0)\n",
        "print(\"Solution:\", solution[0])\n",
        "print(\"Number of iterations:\", solution[1])"
      ],
      "metadata": {
        "id": "BOn9l-kOLQUE"
      },
      "execution_count": null,
      "outputs": []
    },
    {
      "cell_type": "markdown",
      "source": [],
      "metadata": {
        "id": "Zy-LL8CYLRyq"
      }
    },
    {
      "cell_type": "markdown",
      "source": [
        "Relaxation Method\n"
      ],
      "metadata": {
        "id": "bQKjLOn9LXlD"
      }
    },
    {
      "cell_type": "code",
      "source": [
        "# Relaxation method\n",
        "def relaxation_method(A, b, x0, tol=0.01, max_iter=1000, omega=1.25):\n",
        "    n = len(b)\n",
        "    x = np.copy(x0)\n",
        "    for k in range(max_iter):\n",
        "        x_old = np.copy(x)\n",
        "        for i in range(n):\n",
        "            sum = 0\n",
        "            for j in range(n):\n",
        "                if j != i:\n",
        "                    sum += A[i][j] * x[j]\n",
        "            x[i] = (1 - omega) * x_old[i] + (omega / A[i][i]) * (b[i] - sum)\n",
        "        r = np.multiply(np.diag(A),np.add(x,-x_old))\n",
        "        if np.linalg.norm(x - xt) < tol:\n",
        "            return x,k+1\n",
        "    raise ValueError(\"Relaxation method did not converge\")\n",
        "\n",
        "solution = relaxation_method(A, b, x0)\n",
        "print(\"Solution:\", solution[0])\n",
        "print(\"Number of iterations:\", solution[1])"
      ],
      "metadata": {
        "id": "I9v4RTaELZVM"
      },
      "execution_count": null,
      "outputs": []
    },
    {
      "cell_type": "markdown",
      "source": [
        "Conjugate Gradient\n"
      ],
      "metadata": {
        "id": "oHyuWyooLhJP"
      }
    },
    {
      "cell_type": "code",
      "source": [
        "# Conjugate Gradient method\n",
        "def conjugate_gradient(A, b, x0, tol=0.01, max_iter=1000):\n",
        "    r = b - np.dot(A, x0)\n",
        "    p = np.copy(r)\n",
        "    x = np.copy(x0)\n",
        "    rsold = np.dot(r, r)\n",
        "    for k in range(max_iter):\n",
        "        Ap = np.dot(A, p)\n",
        "        alpha = rsold / np.dot(p, Ap)\n",
        "        x = x + alpha * p\n",
        "        if np.linalg.norm(x - xt) < tol:\n",
        "            return x,k+1\n",
        "        r = r - alpha * Ap\n",
        "        rsnew = np.dot(r, r)\n",
        "        beta = (rsnew / rsold)\n",
        "        p = r + beta * p\n",
        "        rsold = np.copy(rsnew)\n",
        "    raise ValueError(\"Relaxation method did not converge\")\n",
        "\n",
        "solution = conjugate_gradient(A, b, x0)\n",
        "print(\"Solution:\", solution[0])\n",
        "print(\"Number of iterations:\", solution[1])\n"
      ],
      "metadata": {
        "id": "MQGVFf_SLjqo"
      },
      "execution_count": null,
      "outputs": []
    }
  ]
}