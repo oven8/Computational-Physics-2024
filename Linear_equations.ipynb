{
  "nbformat": 4,
  "nbformat_minor": 0,
  "metadata": {
    "colab": {
      "provenance": [],
      "authorship_tag": "ABX9TyNrySPngUdEeMWgobcpgzei",
      "include_colab_link": true
    },
    "kernelspec": {
      "name": "python3",
      "display_name": "Python 3"
    },
    "language_info": {
      "name": "python"
    }
  },
  "cells": [
    {
      "cell_type": "markdown",
      "metadata": {
        "id": "view-in-github",
        "colab_type": "text"
      },
      "source": [
        "<a href=\"https://colab.research.google.com/github/oven8/Computational-Physics-2024/blob/main/Linear_equations.ipynb\" target=\"_parent\"><img src=\"https://colab.research.google.com/assets/colab-badge.svg\" alt=\"Open In Colab\"/></a>"
      ]
    },
    {
      "cell_type": "markdown",
      "source": [
        "Given below is the simple code used to solve a system of linear equations!"
      ],
      "metadata": {
        "id": "8StNk0oaRnHe"
      }
    },
    {
      "cell_type": "code",
      "source": [
        "import numpy as np\n",
        "\n",
        "# Define the matrix A and vector Y\n",
        "A = np.array([[4, 1, 1,1,1], [-1, -3, 1,1,0], [2,1,5, -1,-1],[-1,-1,-1,4,0],[0,2,-1,1,4]])\n",
        "B = np.array([6, 6,6,6,6])\n",
        "# Solve the system of linear equations\n",
        "X = np.linalg.solve(A, B)\n",
        "# Print the solution\n",
        "print(\"Solution (x, y, z):\", X)"
      ],
      "metadata": {
        "colab": {
          "base_uri": "https://localhost:8080/"
        },
        "id": "7LzQ5c1IRu4R",
        "outputId": "4fd966c7-af52-474c-9b05-e650aff3fce0"
      },
      "execution_count": null,
      "outputs": [
        {
          "output_type": "stream",
          "name": "stdout",
          "text": [
            "Solution (x, y, z): [ 0.24120603 -0.7839196   2.0201005   1.86934673  1.92964824]\n"
          ]
        }
      ]
    },
    {
      "cell_type": "code",
      "source": [],
      "metadata": {
        "id": "Gjl2lbvGqlVy"
      },
      "execution_count": null,
      "outputs": []
    }
  ]
}